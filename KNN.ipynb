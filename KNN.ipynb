{
  "nbformat": 4,
  "nbformat_minor": 0,
  "metadata": {
    "colab": {
      "provenance": []
    },
    "kernelspec": {
      "name": "python3",
      "display_name": "Python 3"
    },
    "language_info": {
      "name": "python"
    }
  },
  "cells": [
    {
      "cell_type": "code",
      "execution_count": 1,
      "metadata": {
        "id": "KdxuTrv3y8nT"
      },
      "outputs": [],
      "source": [
        "import pandas as pd\n",
        "import seaborn as sns\n",
        "import matplotlib.pyplot as plt\n",
        "import numpy as np\n",
        "%matplotlib inline"
      ]
    },
    {
      "cell_type": "code",
      "source": [
        "from sklearn.datasets import make_classification\n",
        "\n",
        "X, y = make_classification(\n",
        "    n_samples=1000, # 1000 observations\n",
        "    n_features=3, # 3 total features\n",
        "     n_redundant=1,\n",
        "    n_classes=2, # binary target/label\n",
        "    random_state=999\n",
        ")"
      ],
      "metadata": {
        "id": "RQYls3yx5rAP"
      },
      "execution_count": 2,
      "outputs": []
    },
    {
      "cell_type": "code",
      "source": [
        "from sklearn.model_selection import train_test_split"
      ],
      "metadata": {
        "id": "NKFD72tE5uFx"
      },
      "execution_count": 3,
      "outputs": []
    },
    {
      "cell_type": "code",
      "source": [
        "X_train, X_test, y_train, y_test = train_test_split(\n",
        "    X, y, test_size=0.33, random_state=17)"
      ],
      "metadata": {
        "id": "c7gdcuN65xOG"
      },
      "execution_count": 4,
      "outputs": []
    },
    {
      "cell_type": "code",
      "source": [
        "from sklearn.neighbors import KNeighborsClassifier\n",
        "classifier=KNeighborsClassifier(n_neighbors=5,algorithm='auto')\n",
        "classifier.fit(X_train,y_train)"
      ],
      "metadata": {
        "colab": {
          "base_uri": "https://localhost:8080/",
          "height": 74
        },
        "id": "saAI748Y51By",
        "outputId": "1f74a5ab-92cd-467f-bcc5-b345f65dbeb3"
      },
      "execution_count": 5,
      "outputs": [
        {
          "output_type": "execute_result",
          "data": {
            "text/plain": [
              "KNeighborsClassifier()"
            ],
            "text/html": [
              "<style>#sk-container-id-1 {color: black;background-color: white;}#sk-container-id-1 pre{padding: 0;}#sk-container-id-1 div.sk-toggleable {background-color: white;}#sk-container-id-1 label.sk-toggleable__label {cursor: pointer;display: block;width: 100%;margin-bottom: 0;padding: 0.3em;box-sizing: border-box;text-align: center;}#sk-container-id-1 label.sk-toggleable__label-arrow:before {content: \"▸\";float: left;margin-right: 0.25em;color: #696969;}#sk-container-id-1 label.sk-toggleable__label-arrow:hover:before {color: black;}#sk-container-id-1 div.sk-estimator:hover label.sk-toggleable__label-arrow:before {color: black;}#sk-container-id-1 div.sk-toggleable__content {max-height: 0;max-width: 0;overflow: hidden;text-align: left;background-color: #f0f8ff;}#sk-container-id-1 div.sk-toggleable__content pre {margin: 0.2em;color: black;border-radius: 0.25em;background-color: #f0f8ff;}#sk-container-id-1 input.sk-toggleable__control:checked~div.sk-toggleable__content {max-height: 200px;max-width: 100%;overflow: auto;}#sk-container-id-1 input.sk-toggleable__control:checked~label.sk-toggleable__label-arrow:before {content: \"▾\";}#sk-container-id-1 div.sk-estimator input.sk-toggleable__control:checked~label.sk-toggleable__label {background-color: #d4ebff;}#sk-container-id-1 div.sk-label input.sk-toggleable__control:checked~label.sk-toggleable__label {background-color: #d4ebff;}#sk-container-id-1 input.sk-hidden--visually {border: 0;clip: rect(1px 1px 1px 1px);clip: rect(1px, 1px, 1px, 1px);height: 1px;margin: -1px;overflow: hidden;padding: 0;position: absolute;width: 1px;}#sk-container-id-1 div.sk-estimator {font-family: monospace;background-color: #f0f8ff;border: 1px dotted black;border-radius: 0.25em;box-sizing: border-box;margin-bottom: 0.5em;}#sk-container-id-1 div.sk-estimator:hover {background-color: #d4ebff;}#sk-container-id-1 div.sk-parallel-item::after {content: \"\";width: 100%;border-bottom: 1px solid gray;flex-grow: 1;}#sk-container-id-1 div.sk-label:hover label.sk-toggleable__label {background-color: #d4ebff;}#sk-container-id-1 div.sk-serial::before {content: \"\";position: absolute;border-left: 1px solid gray;box-sizing: border-box;top: 0;bottom: 0;left: 50%;z-index: 0;}#sk-container-id-1 div.sk-serial {display: flex;flex-direction: column;align-items: center;background-color: white;padding-right: 0.2em;padding-left: 0.2em;position: relative;}#sk-container-id-1 div.sk-item {position: relative;z-index: 1;}#sk-container-id-1 div.sk-parallel {display: flex;align-items: stretch;justify-content: center;background-color: white;position: relative;}#sk-container-id-1 div.sk-item::before, #sk-container-id-1 div.sk-parallel-item::before {content: \"\";position: absolute;border-left: 1px solid gray;box-sizing: border-box;top: 0;bottom: 0;left: 50%;z-index: -1;}#sk-container-id-1 div.sk-parallel-item {display: flex;flex-direction: column;z-index: 1;position: relative;background-color: white;}#sk-container-id-1 div.sk-parallel-item:first-child::after {align-self: flex-end;width: 50%;}#sk-container-id-1 div.sk-parallel-item:last-child::after {align-self: flex-start;width: 50%;}#sk-container-id-1 div.sk-parallel-item:only-child::after {width: 0;}#sk-container-id-1 div.sk-dashed-wrapped {border: 1px dashed gray;margin: 0 0.4em 0.5em 0.4em;box-sizing: border-box;padding-bottom: 0.4em;background-color: white;}#sk-container-id-1 div.sk-label label {font-family: monospace;font-weight: bold;display: inline-block;line-height: 1.2em;}#sk-container-id-1 div.sk-label-container {text-align: center;}#sk-container-id-1 div.sk-container {/* jupyter's `normalize.less` sets `[hidden] { display: none; }` but bootstrap.min.css set `[hidden] { display: none !important; }` so we also need the `!important` here to be able to override the default hidden behavior on the sphinx rendered scikit-learn.org. See: https://github.com/scikit-learn/scikit-learn/issues/21755 */display: inline-block !important;position: relative;}#sk-container-id-1 div.sk-text-repr-fallback {display: none;}</style><div id=\"sk-container-id-1\" class=\"sk-top-container\"><div class=\"sk-text-repr-fallback\"><pre>KNeighborsClassifier()</pre><b>In a Jupyter environment, please rerun this cell to show the HTML representation or trust the notebook. <br />On GitHub, the HTML representation is unable to render, please try loading this page with nbviewer.org.</b></div><div class=\"sk-container\" hidden><div class=\"sk-item\"><div class=\"sk-estimator sk-toggleable\"><input class=\"sk-toggleable__control sk-hidden--visually\" id=\"sk-estimator-id-1\" type=\"checkbox\" checked><label for=\"sk-estimator-id-1\" class=\"sk-toggleable__label sk-toggleable__label-arrow\">KNeighborsClassifier</label><div class=\"sk-toggleable__content\"><pre>KNeighborsClassifier()</pre></div></div></div></div></div>"
            ]
          },
          "metadata": {},
          "execution_count": 5
        }
      ]
    },
    {
      "cell_type": "code",
      "source": [
        "y_pred=classifier.predict(X_test)\n"
      ],
      "metadata": {
        "id": "WxAN0Dws576z"
      },
      "execution_count": 6,
      "outputs": []
    },
    {
      "cell_type": "code",
      "source": [
        "from sklearn.metrics import confusion_matrix,accuracy_score,classification_report\n",
        "\n",
        "print(confusion_matrix(y_pred,y_test))\n",
        "print(accuracy_score(y_pred,y_test))\n",
        "print(classification_report(y_pred,y_test))"
      ],
      "metadata": {
        "colab": {
          "base_uri": "https://localhost:8080/"
        },
        "id": "3Xh-kM5a5_Mp",
        "outputId": "d22db345-0da1-4eb5-c35a-ed4681444173"
      },
      "execution_count": 7,
      "outputs": [
        {
          "output_type": "stream",
          "name": "stdout",
          "text": [
            "[[146  17]\n",
            " [ 15 152]]\n",
            "0.9030303030303031\n",
            "              precision    recall  f1-score   support\n",
            "\n",
            "           0       0.91      0.90      0.90       163\n",
            "           1       0.90      0.91      0.90       167\n",
            "\n",
            "    accuracy                           0.90       330\n",
            "   macro avg       0.90      0.90      0.90       330\n",
            "weighted avg       0.90      0.90      0.90       330\n",
            "\n"
          ]
        }
      ]
    },
    {
      "cell_type": "code",
      "source": [
        "from sklearn.model_selection import GridSearchCV"
      ],
      "metadata": {
        "id": "sou6LGVR6bPC"
      },
      "execution_count": 10,
      "outputs": []
    },
    {
      "cell_type": "code",
      "source": [
        "param={\n",
        "    'n_neighbors':[1,2,3,4,5,6,7,8],\n",
        "    'algorithm':['auto', 'ball_tree', 'kd_tree', 'brute'],\n",
        "\n",
        "}"
      ],
      "metadata": {
        "id": "xJ_FUnmW6xSo"
      },
      "execution_count": 20,
      "outputs": []
    },
    {
      "cell_type": "code",
      "source": [
        "GSCV=GridSearchCV(param_grid=param,cv=5,verbose=3.0,estimator=classifier)\n",
        "GSCV.fit(X_train,y_train)"
      ],
      "metadata": {
        "colab": {
          "base_uri": "https://localhost:8080/",
          "height": 1000
        },
        "id": "TYvS_ZDw7uxv",
        "outputId": "8dd13dcd-5a9c-4631-eb8a-fc0757498838"
      },
      "execution_count": 21,
      "outputs": [
        {
          "output_type": "stream",
          "name": "stdout",
          "text": [
            "Fitting 5 folds for each of 32 candidates, totalling 160 fits\n",
            "[CV 1/5] END .....algorithm=auto, n_neighbors=1;, score=0.910 total time=   0.0s\n",
            "[CV 2/5] END .....algorithm=auto, n_neighbors=1;, score=0.873 total time=   0.0s\n",
            "[CV 3/5] END .....algorithm=auto, n_neighbors=1;, score=0.873 total time=   0.0s\n",
            "[CV 4/5] END .....algorithm=auto, n_neighbors=1;, score=0.851 total time=   0.0s\n",
            "[CV 5/5] END .....algorithm=auto, n_neighbors=1;, score=0.866 total time=   0.0s\n",
            "[CV 1/5] END .....algorithm=auto, n_neighbors=2;, score=0.888 total time=   0.0s\n",
            "[CV 2/5] END .....algorithm=auto, n_neighbors=2;, score=0.866 total time=   0.0s\n",
            "[CV 3/5] END .....algorithm=auto, n_neighbors=2;, score=0.873 total time=   0.0s\n",
            "[CV 4/5] END .....algorithm=auto, n_neighbors=2;, score=0.851 total time=   0.0s\n",
            "[CV 5/5] END .....algorithm=auto, n_neighbors=2;, score=0.881 total time=   0.0s\n",
            "[CV 1/5] END .....algorithm=auto, n_neighbors=3;, score=0.910 total time=   0.0s\n",
            "[CV 2/5] END .....algorithm=auto, n_neighbors=3;, score=0.903 total time=   0.0s\n",
            "[CV 3/5] END .....algorithm=auto, n_neighbors=3;, score=0.866 total time=   0.0s\n",
            "[CV 4/5] END .....algorithm=auto, n_neighbors=3;, score=0.925 total time=   0.0s\n",
            "[CV 5/5] END .....algorithm=auto, n_neighbors=3;, score=0.910 total time=   0.0s\n",
            "[CV 1/5] END .....algorithm=auto, n_neighbors=4;, score=0.903 total time=   0.0s\n",
            "[CV 2/5] END .....algorithm=auto, n_neighbors=4;, score=0.896 total time=   0.0s\n",
            "[CV 3/5] END .....algorithm=auto, n_neighbors=4;, score=0.866 total time=   0.0s\n",
            "[CV 4/5] END .....algorithm=auto, n_neighbors=4;, score=0.910 total time=   0.0s\n",
            "[CV 5/5] END .....algorithm=auto, n_neighbors=4;, score=0.903 total time=   0.0s\n",
            "[CV 1/5] END .....algorithm=auto, n_neighbors=5;, score=0.903 total time=   0.0s\n",
            "[CV 2/5] END .....algorithm=auto, n_neighbors=5;, score=0.918 total time=   0.0s\n",
            "[CV 3/5] END .....algorithm=auto, n_neighbors=5;, score=0.873 total time=   0.0s\n",
            "[CV 4/5] END .....algorithm=auto, n_neighbors=5;, score=0.955 total time=   0.0s\n",
            "[CV 5/5] END .....algorithm=auto, n_neighbors=5;, score=0.918 total time=   0.0s\n",
            "[CV 1/5] END .....algorithm=auto, n_neighbors=6;, score=0.910 total time=   0.0s\n",
            "[CV 2/5] END .....algorithm=auto, n_neighbors=6;, score=0.918 total time=   0.0s\n",
            "[CV 3/5] END .....algorithm=auto, n_neighbors=6;, score=0.866 total time=   0.0s\n",
            "[CV 4/5] END .....algorithm=auto, n_neighbors=6;, score=0.940 total time=   0.0s\n",
            "[CV 5/5] END .....algorithm=auto, n_neighbors=6;, score=0.918 total time=   0.0s\n",
            "[CV 1/5] END .....algorithm=auto, n_neighbors=7;, score=0.910 total time=   0.0s\n",
            "[CV 2/5] END .....algorithm=auto, n_neighbors=7;, score=0.925 total time=   0.0s\n",
            "[CV 3/5] END .....algorithm=auto, n_neighbors=7;, score=0.881 total time=   0.0s\n",
            "[CV 4/5] END .....algorithm=auto, n_neighbors=7;, score=0.918 total time=   0.0s\n",
            "[CV 5/5] END .....algorithm=auto, n_neighbors=7;, score=0.918 total time=   0.0s\n",
            "[CV 1/5] END .....algorithm=auto, n_neighbors=8;, score=0.910 total time=   0.0s\n",
            "[CV 2/5] END .....algorithm=auto, n_neighbors=8;, score=0.940 total time=   0.0s\n",
            "[CV 3/5] END .....algorithm=auto, n_neighbors=8;, score=0.866 total time=   0.0s\n",
            "[CV 4/5] END .....algorithm=auto, n_neighbors=8;, score=0.918 total time=   0.0s\n",
            "[CV 5/5] END .....algorithm=auto, n_neighbors=8;, score=0.910 total time=   0.0s\n",
            "[CV 1/5] END algorithm=ball_tree, n_neighbors=1;, score=0.910 total time=   0.0s\n",
            "[CV 2/5] END algorithm=ball_tree, n_neighbors=1;, score=0.873 total time=   0.0s\n",
            "[CV 3/5] END algorithm=ball_tree, n_neighbors=1;, score=0.873 total time=   0.0s\n",
            "[CV 4/5] END algorithm=ball_tree, n_neighbors=1;, score=0.851 total time=   0.0s\n",
            "[CV 5/5] END algorithm=ball_tree, n_neighbors=1;, score=0.866 total time=   0.0s\n",
            "[CV 1/5] END algorithm=ball_tree, n_neighbors=2;, score=0.888 total time=   0.0s\n",
            "[CV 2/5] END algorithm=ball_tree, n_neighbors=2;, score=0.866 total time=   0.0s\n",
            "[CV 3/5] END algorithm=ball_tree, n_neighbors=2;, score=0.873 total time=   0.0s\n",
            "[CV 4/5] END algorithm=ball_tree, n_neighbors=2;, score=0.851 total time=   0.0s\n",
            "[CV 5/5] END algorithm=ball_tree, n_neighbors=2;, score=0.881 total time=   0.0s\n",
            "[CV 1/5] END algorithm=ball_tree, n_neighbors=3;, score=0.910 total time=   0.0s\n",
            "[CV 2/5] END algorithm=ball_tree, n_neighbors=3;, score=0.903 total time=   0.0s\n",
            "[CV 3/5] END algorithm=ball_tree, n_neighbors=3;, score=0.866 total time=   0.0s\n",
            "[CV 4/5] END algorithm=ball_tree, n_neighbors=3;, score=0.925 total time=   0.0s\n",
            "[CV 5/5] END algorithm=ball_tree, n_neighbors=3;, score=0.910 total time=   0.0s\n",
            "[CV 1/5] END algorithm=ball_tree, n_neighbors=4;, score=0.903 total time=   0.0s\n",
            "[CV 2/5] END algorithm=ball_tree, n_neighbors=4;, score=0.896 total time=   0.0s\n",
            "[CV 3/5] END algorithm=ball_tree, n_neighbors=4;, score=0.866 total time=   0.0s\n",
            "[CV 4/5] END algorithm=ball_tree, n_neighbors=4;, score=0.910 total time=   0.0s\n",
            "[CV 5/5] END algorithm=ball_tree, n_neighbors=4;, score=0.903 total time=   0.0s\n",
            "[CV 1/5] END algorithm=ball_tree, n_neighbors=5;, score=0.903 total time=   0.0s\n",
            "[CV 2/5] END algorithm=ball_tree, n_neighbors=5;, score=0.918 total time=   0.0s\n",
            "[CV 3/5] END algorithm=ball_tree, n_neighbors=5;, score=0.873 total time=   0.0s\n",
            "[CV 4/5] END algorithm=ball_tree, n_neighbors=5;, score=0.955 total time=   0.0s\n",
            "[CV 5/5] END algorithm=ball_tree, n_neighbors=5;, score=0.918 total time=   0.0s\n",
            "[CV 1/5] END algorithm=ball_tree, n_neighbors=6;, score=0.910 total time=   0.0s\n",
            "[CV 2/5] END algorithm=ball_tree, n_neighbors=6;, score=0.918 total time=   0.0s\n",
            "[CV 3/5] END algorithm=ball_tree, n_neighbors=6;, score=0.866 total time=   0.0s\n",
            "[CV 4/5] END algorithm=ball_tree, n_neighbors=6;, score=0.940 total time=   0.0s\n",
            "[CV 5/5] END algorithm=ball_tree, n_neighbors=6;, score=0.918 total time=   0.0s\n",
            "[CV 1/5] END algorithm=ball_tree, n_neighbors=7;, score=0.910 total time=   0.0s\n",
            "[CV 2/5] END algorithm=ball_tree, n_neighbors=7;, score=0.925 total time=   0.0s\n",
            "[CV 3/5] END algorithm=ball_tree, n_neighbors=7;, score=0.881 total time=   0.0s\n",
            "[CV 4/5] END algorithm=ball_tree, n_neighbors=7;, score=0.918 total time=   0.0s\n",
            "[CV 5/5] END algorithm=ball_tree, n_neighbors=7;, score=0.918 total time=   0.0s\n",
            "[CV 1/5] END algorithm=ball_tree, n_neighbors=8;, score=0.910 total time=   0.0s\n",
            "[CV 2/5] END algorithm=ball_tree, n_neighbors=8;, score=0.940 total time=   0.0s\n",
            "[CV 3/5] END algorithm=ball_tree, n_neighbors=8;, score=0.866 total time=   0.0s\n",
            "[CV 4/5] END algorithm=ball_tree, n_neighbors=8;, score=0.918 total time=   0.0s\n",
            "[CV 5/5] END algorithm=ball_tree, n_neighbors=8;, score=0.910 total time=   0.0s\n",
            "[CV 1/5] END ..algorithm=kd_tree, n_neighbors=1;, score=0.910 total time=   0.0s\n",
            "[CV 2/5] END ..algorithm=kd_tree, n_neighbors=1;, score=0.873 total time=   0.0s\n",
            "[CV 3/5] END ..algorithm=kd_tree, n_neighbors=1;, score=0.873 total time=   0.0s\n",
            "[CV 4/5] END ..algorithm=kd_tree, n_neighbors=1;, score=0.851 total time=   0.0s\n",
            "[CV 5/5] END ..algorithm=kd_tree, n_neighbors=1;, score=0.866 total time=   0.0s\n",
            "[CV 1/5] END ..algorithm=kd_tree, n_neighbors=2;, score=0.888 total time=   0.0s\n",
            "[CV 2/5] END ..algorithm=kd_tree, n_neighbors=2;, score=0.866 total time=   0.0s\n",
            "[CV 3/5] END ..algorithm=kd_tree, n_neighbors=2;, score=0.873 total time=   0.0s\n",
            "[CV 4/5] END ..algorithm=kd_tree, n_neighbors=2;, score=0.851 total time=   0.0s\n",
            "[CV 5/5] END ..algorithm=kd_tree, n_neighbors=2;, score=0.881 total time=   0.0s\n",
            "[CV 1/5] END ..algorithm=kd_tree, n_neighbors=3;, score=0.910 total time=   0.0s\n",
            "[CV 2/5] END ..algorithm=kd_tree, n_neighbors=3;, score=0.903 total time=   0.0s\n",
            "[CV 3/5] END ..algorithm=kd_tree, n_neighbors=3;, score=0.866 total time=   0.0s\n",
            "[CV 4/5] END ..algorithm=kd_tree, n_neighbors=3;, score=0.925 total time=   0.0s\n",
            "[CV 5/5] END ..algorithm=kd_tree, n_neighbors=3;, score=0.910 total time=   0.0s\n",
            "[CV 1/5] END ..algorithm=kd_tree, n_neighbors=4;, score=0.903 total time=   0.0s\n",
            "[CV 2/5] END ..algorithm=kd_tree, n_neighbors=4;, score=0.896 total time=   0.0s\n",
            "[CV 3/5] END ..algorithm=kd_tree, n_neighbors=4;, score=0.866 total time=   0.0s\n",
            "[CV 4/5] END ..algorithm=kd_tree, n_neighbors=4;, score=0.910 total time=   0.0s\n",
            "[CV 5/5] END ..algorithm=kd_tree, n_neighbors=4;, score=0.903 total time=   0.0s\n",
            "[CV 1/5] END ..algorithm=kd_tree, n_neighbors=5;, score=0.903 total time=   0.0s\n",
            "[CV 2/5] END ..algorithm=kd_tree, n_neighbors=5;, score=0.918 total time=   0.0s\n",
            "[CV 3/5] END ..algorithm=kd_tree, n_neighbors=5;, score=0.873 total time=   0.0s\n",
            "[CV 4/5] END ..algorithm=kd_tree, n_neighbors=5;, score=0.955 total time=   0.0s\n",
            "[CV 5/5] END ..algorithm=kd_tree, n_neighbors=5;, score=0.918 total time=   0.0s\n",
            "[CV 1/5] END ..algorithm=kd_tree, n_neighbors=6;, score=0.910 total time=   0.0s\n",
            "[CV 2/5] END ..algorithm=kd_tree, n_neighbors=6;, score=0.918 total time=   0.0s\n",
            "[CV 3/5] END ..algorithm=kd_tree, n_neighbors=6;, score=0.866 total time=   0.0s\n",
            "[CV 4/5] END ..algorithm=kd_tree, n_neighbors=6;, score=0.940 total time=   0.0s\n",
            "[CV 5/5] END ..algorithm=kd_tree, n_neighbors=6;, score=0.918 total time=   0.0s\n",
            "[CV 1/5] END ..algorithm=kd_tree, n_neighbors=7;, score=0.910 total time=   0.0s\n",
            "[CV 2/5] END ..algorithm=kd_tree, n_neighbors=7;, score=0.925 total time=   0.0s\n",
            "[CV 3/5] END ..algorithm=kd_tree, n_neighbors=7;, score=0.881 total time=   0.0s\n",
            "[CV 4/5] END ..algorithm=kd_tree, n_neighbors=7;, score=0.918 total time=   0.0s\n",
            "[CV 5/5] END ..algorithm=kd_tree, n_neighbors=7;, score=0.918 total time=   0.0s\n",
            "[CV 1/5] END ..algorithm=kd_tree, n_neighbors=8;, score=0.910 total time=   0.0s\n",
            "[CV 2/5] END ..algorithm=kd_tree, n_neighbors=8;, score=0.940 total time=   0.0s\n",
            "[CV 3/5] END ..algorithm=kd_tree, n_neighbors=8;, score=0.866 total time=   0.0s\n",
            "[CV 4/5] END ..algorithm=kd_tree, n_neighbors=8;, score=0.918 total time=   0.0s\n",
            "[CV 5/5] END ..algorithm=kd_tree, n_neighbors=8;, score=0.910 total time=   0.0s\n",
            "[CV 1/5] END ....algorithm=brute, n_neighbors=1;, score=0.910 total time=   0.1s\n",
            "[CV 2/5] END ....algorithm=brute, n_neighbors=1;, score=0.873 total time=   0.0s\n",
            "[CV 3/5] END ....algorithm=brute, n_neighbors=1;, score=0.873 total time=   0.0s\n",
            "[CV 4/5] END ....algorithm=brute, n_neighbors=1;, score=0.851 total time=   0.0s\n",
            "[CV 5/5] END ....algorithm=brute, n_neighbors=1;, score=0.866 total time=   0.0s\n",
            "[CV 1/5] END ....algorithm=brute, n_neighbors=2;, score=0.888 total time=   0.0s\n",
            "[CV 2/5] END ....algorithm=brute, n_neighbors=2;, score=0.866 total time=   0.0s\n",
            "[CV 3/5] END ....algorithm=brute, n_neighbors=2;, score=0.873 total time=   0.0s\n",
            "[CV 4/5] END ....algorithm=brute, n_neighbors=2;, score=0.851 total time=   0.0s\n",
            "[CV 5/5] END ....algorithm=brute, n_neighbors=2;, score=0.881 total time=   0.0s\n",
            "[CV 1/5] END ....algorithm=brute, n_neighbors=3;, score=0.910 total time=   0.0s\n",
            "[CV 2/5] END ....algorithm=brute, n_neighbors=3;, score=0.903 total time=   0.0s\n",
            "[CV 3/5] END ....algorithm=brute, n_neighbors=3;, score=0.866 total time=   0.0s\n",
            "[CV 4/5] END ....algorithm=brute, n_neighbors=3;, score=0.925 total time=   0.0s\n",
            "[CV 5/5] END ....algorithm=brute, n_neighbors=3;, score=0.910 total time=   0.0s\n",
            "[CV 1/5] END ....algorithm=brute, n_neighbors=4;, score=0.903 total time=   0.0s\n",
            "[CV 2/5] END ....algorithm=brute, n_neighbors=4;, score=0.896 total time=   0.0s\n",
            "[CV 3/5] END ....algorithm=brute, n_neighbors=4;, score=0.866 total time=   0.0s\n",
            "[CV 4/5] END ....algorithm=brute, n_neighbors=4;, score=0.910 total time=   0.0s\n",
            "[CV 5/5] END ....algorithm=brute, n_neighbors=4;, score=0.903 total time=   0.0s\n",
            "[CV 1/5] END ....algorithm=brute, n_neighbors=5;, score=0.903 total time=   0.0s\n",
            "[CV 2/5] END ....algorithm=brute, n_neighbors=5;, score=0.918 total time=   0.0s\n",
            "[CV 3/5] END ....algorithm=brute, n_neighbors=5;, score=0.873 total time=   0.0s\n",
            "[CV 4/5] END ....algorithm=brute, n_neighbors=5;, score=0.955 total time=   0.0s\n",
            "[CV 5/5] END ....algorithm=brute, n_neighbors=5;, score=0.918 total time=   0.0s\n",
            "[CV 1/5] END ....algorithm=brute, n_neighbors=6;, score=0.910 total time=   0.0s\n",
            "[CV 2/5] END ....algorithm=brute, n_neighbors=6;, score=0.918 total time=   0.0s\n",
            "[CV 3/5] END ....algorithm=brute, n_neighbors=6;, score=0.866 total time=   0.0s\n",
            "[CV 4/5] END ....algorithm=brute, n_neighbors=6;, score=0.940 total time=   0.0s\n",
            "[CV 5/5] END ....algorithm=brute, n_neighbors=6;, score=0.918 total time=   0.0s\n",
            "[CV 1/5] END ....algorithm=brute, n_neighbors=7;, score=0.910 total time=   0.0s\n",
            "[CV 2/5] END ....algorithm=brute, n_neighbors=7;, score=0.925 total time=   0.0s\n",
            "[CV 3/5] END ....algorithm=brute, n_neighbors=7;, score=0.881 total time=   0.0s\n",
            "[CV 4/5] END ....algorithm=brute, n_neighbors=7;, score=0.918 total time=   0.0s\n",
            "[CV 5/5] END ....algorithm=brute, n_neighbors=7;, score=0.918 total time=   0.0s\n",
            "[CV 1/5] END ....algorithm=brute, n_neighbors=8;, score=0.910 total time=   0.0s\n",
            "[CV 2/5] END ....algorithm=brute, n_neighbors=8;, score=0.940 total time=   0.0s\n",
            "[CV 3/5] END ....algorithm=brute, n_neighbors=8;, score=0.866 total time=   0.0s\n",
            "[CV 4/5] END ....algorithm=brute, n_neighbors=8;, score=0.918 total time=   0.0s\n",
            "[CV 5/5] END ....algorithm=brute, n_neighbors=8;, score=0.910 total time=   0.0s\n"
          ]
        },
        {
          "output_type": "execute_result",
          "data": {
            "text/plain": [
              "GridSearchCV(cv=5, estimator=KNeighborsClassifier(),\n",
              "             param_grid={'algorithm': ['auto', 'ball_tree', 'kd_tree', 'brute'],\n",
              "                         'n_neighbors': [1, 2, 3, 4, 5, 6, 7, 8]},\n",
              "             verbose=3.0)"
            ],
            "text/html": [
              "<style>#sk-container-id-2 {color: black;background-color: white;}#sk-container-id-2 pre{padding: 0;}#sk-container-id-2 div.sk-toggleable {background-color: white;}#sk-container-id-2 label.sk-toggleable__label {cursor: pointer;display: block;width: 100%;margin-bottom: 0;padding: 0.3em;box-sizing: border-box;text-align: center;}#sk-container-id-2 label.sk-toggleable__label-arrow:before {content: \"▸\";float: left;margin-right: 0.25em;color: #696969;}#sk-container-id-2 label.sk-toggleable__label-arrow:hover:before {color: black;}#sk-container-id-2 div.sk-estimator:hover label.sk-toggleable__label-arrow:before {color: black;}#sk-container-id-2 div.sk-toggleable__content {max-height: 0;max-width: 0;overflow: hidden;text-align: left;background-color: #f0f8ff;}#sk-container-id-2 div.sk-toggleable__content pre {margin: 0.2em;color: black;border-radius: 0.25em;background-color: #f0f8ff;}#sk-container-id-2 input.sk-toggleable__control:checked~div.sk-toggleable__content {max-height: 200px;max-width: 100%;overflow: auto;}#sk-container-id-2 input.sk-toggleable__control:checked~label.sk-toggleable__label-arrow:before {content: \"▾\";}#sk-container-id-2 div.sk-estimator input.sk-toggleable__control:checked~label.sk-toggleable__label {background-color: #d4ebff;}#sk-container-id-2 div.sk-label input.sk-toggleable__control:checked~label.sk-toggleable__label {background-color: #d4ebff;}#sk-container-id-2 input.sk-hidden--visually {border: 0;clip: rect(1px 1px 1px 1px);clip: rect(1px, 1px, 1px, 1px);height: 1px;margin: -1px;overflow: hidden;padding: 0;position: absolute;width: 1px;}#sk-container-id-2 div.sk-estimator {font-family: monospace;background-color: #f0f8ff;border: 1px dotted black;border-radius: 0.25em;box-sizing: border-box;margin-bottom: 0.5em;}#sk-container-id-2 div.sk-estimator:hover {background-color: #d4ebff;}#sk-container-id-2 div.sk-parallel-item::after {content: \"\";width: 100%;border-bottom: 1px solid gray;flex-grow: 1;}#sk-container-id-2 div.sk-label:hover label.sk-toggleable__label {background-color: #d4ebff;}#sk-container-id-2 div.sk-serial::before {content: \"\";position: absolute;border-left: 1px solid gray;box-sizing: border-box;top: 0;bottom: 0;left: 50%;z-index: 0;}#sk-container-id-2 div.sk-serial {display: flex;flex-direction: column;align-items: center;background-color: white;padding-right: 0.2em;padding-left: 0.2em;position: relative;}#sk-container-id-2 div.sk-item {position: relative;z-index: 1;}#sk-container-id-2 div.sk-parallel {display: flex;align-items: stretch;justify-content: center;background-color: white;position: relative;}#sk-container-id-2 div.sk-item::before, #sk-container-id-2 div.sk-parallel-item::before {content: \"\";position: absolute;border-left: 1px solid gray;box-sizing: border-box;top: 0;bottom: 0;left: 50%;z-index: -1;}#sk-container-id-2 div.sk-parallel-item {display: flex;flex-direction: column;z-index: 1;position: relative;background-color: white;}#sk-container-id-2 div.sk-parallel-item:first-child::after {align-self: flex-end;width: 50%;}#sk-container-id-2 div.sk-parallel-item:last-child::after {align-self: flex-start;width: 50%;}#sk-container-id-2 div.sk-parallel-item:only-child::after {width: 0;}#sk-container-id-2 div.sk-dashed-wrapped {border: 1px dashed gray;margin: 0 0.4em 0.5em 0.4em;box-sizing: border-box;padding-bottom: 0.4em;background-color: white;}#sk-container-id-2 div.sk-label label {font-family: monospace;font-weight: bold;display: inline-block;line-height: 1.2em;}#sk-container-id-2 div.sk-label-container {text-align: center;}#sk-container-id-2 div.sk-container {/* jupyter's `normalize.less` sets `[hidden] { display: none; }` but bootstrap.min.css set `[hidden] { display: none !important; }` so we also need the `!important` here to be able to override the default hidden behavior on the sphinx rendered scikit-learn.org. See: https://github.com/scikit-learn/scikit-learn/issues/21755 */display: inline-block !important;position: relative;}#sk-container-id-2 div.sk-text-repr-fallback {display: none;}</style><div id=\"sk-container-id-2\" class=\"sk-top-container\"><div class=\"sk-text-repr-fallback\"><pre>GridSearchCV(cv=5, estimator=KNeighborsClassifier(),\n",
              "             param_grid={&#x27;algorithm&#x27;: [&#x27;auto&#x27;, &#x27;ball_tree&#x27;, &#x27;kd_tree&#x27;, &#x27;brute&#x27;],\n",
              "                         &#x27;n_neighbors&#x27;: [1, 2, 3, 4, 5, 6, 7, 8]},\n",
              "             verbose=3.0)</pre><b>In a Jupyter environment, please rerun this cell to show the HTML representation or trust the notebook. <br />On GitHub, the HTML representation is unable to render, please try loading this page with nbviewer.org.</b></div><div class=\"sk-container\" hidden><div class=\"sk-item sk-dashed-wrapped\"><div class=\"sk-label-container\"><div class=\"sk-label sk-toggleable\"><input class=\"sk-toggleable__control sk-hidden--visually\" id=\"sk-estimator-id-2\" type=\"checkbox\" ><label for=\"sk-estimator-id-2\" class=\"sk-toggleable__label sk-toggleable__label-arrow\">GridSearchCV</label><div class=\"sk-toggleable__content\"><pre>GridSearchCV(cv=5, estimator=KNeighborsClassifier(),\n",
              "             param_grid={&#x27;algorithm&#x27;: [&#x27;auto&#x27;, &#x27;ball_tree&#x27;, &#x27;kd_tree&#x27;, &#x27;brute&#x27;],\n",
              "                         &#x27;n_neighbors&#x27;: [1, 2, 3, 4, 5, 6, 7, 8]},\n",
              "             verbose=3.0)</pre></div></div></div><div class=\"sk-parallel\"><div class=\"sk-parallel-item\"><div class=\"sk-item\"><div class=\"sk-label-container\"><div class=\"sk-label sk-toggleable\"><input class=\"sk-toggleable__control sk-hidden--visually\" id=\"sk-estimator-id-3\" type=\"checkbox\" ><label for=\"sk-estimator-id-3\" class=\"sk-toggleable__label sk-toggleable__label-arrow\">estimator: KNeighborsClassifier</label><div class=\"sk-toggleable__content\"><pre>KNeighborsClassifier()</pre></div></div></div><div class=\"sk-serial\"><div class=\"sk-item\"><div class=\"sk-estimator sk-toggleable\"><input class=\"sk-toggleable__control sk-hidden--visually\" id=\"sk-estimator-id-4\" type=\"checkbox\" ><label for=\"sk-estimator-id-4\" class=\"sk-toggleable__label sk-toggleable__label-arrow\">KNeighborsClassifier</label><div class=\"sk-toggleable__content\"><pre>KNeighborsClassifier()</pre></div></div></div></div></div></div></div></div></div></div>"
            ]
          },
          "metadata": {},
          "execution_count": 21
        }
      ]
    },
    {
      "cell_type": "code",
      "source": [
        "GSCV.best_params_\n"
      ],
      "metadata": {
        "colab": {
          "base_uri": "https://localhost:8080/"
        },
        "id": "I48xdGhq8FMm",
        "outputId": "84c9b77e-f6ad-44b0-d4fb-507bc1a21ee5"
      },
      "execution_count": 22,
      "outputs": [
        {
          "output_type": "execute_result",
          "data": {
            "text/plain": [
              "{'algorithm': 'auto', 'n_neighbors': 5}"
            ]
          },
          "metadata": {},
          "execution_count": 22
        }
      ]
    },
    {
      "cell_type": "code",
      "source": [],
      "metadata": {
        "id": "SExK1Gvg9t7f"
      },
      "execution_count": null,
      "outputs": []
    },
    {
      "cell_type": "code",
      "source": [],
      "metadata": {
        "id": "ZhumRKgE9xSu"
      },
      "execution_count": null,
      "outputs": []
    },
    {
      "cell_type": "code",
      "source": [],
      "metadata": {
        "id": "JB_Kf8ue9xUB"
      },
      "execution_count": null,
      "outputs": []
    },
    {
      "cell_type": "code",
      "source": [
        "#@title KNN Rgression"
      ],
      "metadata": {
        "id": "mC8-j4YW9xX7"
      },
      "execution_count": 23,
      "outputs": []
    },
    {
      "cell_type": "code",
      "source": [
        "from sklearn.datasets import make_regression\n",
        "x, Y = make_regression(n_samples=1000, n_features=2, noise=10, random_state=42)"
      ],
      "metadata": {
        "id": "W9FmOTg29xZa"
      },
      "execution_count": 24,
      "outputs": []
    },
    {
      "cell_type": "code",
      "source": [
        "from sklearn.neighbors import KNeighborsRegressor"
      ],
      "metadata": {
        "id": "Awfbehmq-CYD"
      },
      "execution_count": 25,
      "outputs": []
    },
    {
      "cell_type": "code",
      "source": [
        "x_train, x_test, Y_train, Y_test = train_test_split(\n",
        "    X, y, test_size=0.33, random_state=42)"
      ],
      "metadata": {
        "id": "4TNfegdk-Mx8"
      },
      "execution_count": 26,
      "outputs": []
    },
    {
      "cell_type": "code",
      "source": [
        "regressor=KNeighborsRegressor(n_neighbors=6,algorithm='auto')\n",
        "regressor.fit(x_train,Y_train)"
      ],
      "metadata": {
        "colab": {
          "base_uri": "https://localhost:8080/",
          "height": 74
        },
        "id": "FuDBfD9w-FRv",
        "outputId": "933da18c-b1c2-4a2a-d961-2302a7475de4"
      },
      "execution_count": 27,
      "outputs": [
        {
          "output_type": "execute_result",
          "data": {
            "text/plain": [
              "KNeighborsRegressor(n_neighbors=6)"
            ],
            "text/html": [
              "<style>#sk-container-id-3 {color: black;background-color: white;}#sk-container-id-3 pre{padding: 0;}#sk-container-id-3 div.sk-toggleable {background-color: white;}#sk-container-id-3 label.sk-toggleable__label {cursor: pointer;display: block;width: 100%;margin-bottom: 0;padding: 0.3em;box-sizing: border-box;text-align: center;}#sk-container-id-3 label.sk-toggleable__label-arrow:before {content: \"▸\";float: left;margin-right: 0.25em;color: #696969;}#sk-container-id-3 label.sk-toggleable__label-arrow:hover:before {color: black;}#sk-container-id-3 div.sk-estimator:hover label.sk-toggleable__label-arrow:before {color: black;}#sk-container-id-3 div.sk-toggleable__content {max-height: 0;max-width: 0;overflow: hidden;text-align: left;background-color: #f0f8ff;}#sk-container-id-3 div.sk-toggleable__content pre {margin: 0.2em;color: black;border-radius: 0.25em;background-color: #f0f8ff;}#sk-container-id-3 input.sk-toggleable__control:checked~div.sk-toggleable__content {max-height: 200px;max-width: 100%;overflow: auto;}#sk-container-id-3 input.sk-toggleable__control:checked~label.sk-toggleable__label-arrow:before {content: \"▾\";}#sk-container-id-3 div.sk-estimator input.sk-toggleable__control:checked~label.sk-toggleable__label {background-color: #d4ebff;}#sk-container-id-3 div.sk-label input.sk-toggleable__control:checked~label.sk-toggleable__label {background-color: #d4ebff;}#sk-container-id-3 input.sk-hidden--visually {border: 0;clip: rect(1px 1px 1px 1px);clip: rect(1px, 1px, 1px, 1px);height: 1px;margin: -1px;overflow: hidden;padding: 0;position: absolute;width: 1px;}#sk-container-id-3 div.sk-estimator {font-family: monospace;background-color: #f0f8ff;border: 1px dotted black;border-radius: 0.25em;box-sizing: border-box;margin-bottom: 0.5em;}#sk-container-id-3 div.sk-estimator:hover {background-color: #d4ebff;}#sk-container-id-3 div.sk-parallel-item::after {content: \"\";width: 100%;border-bottom: 1px solid gray;flex-grow: 1;}#sk-container-id-3 div.sk-label:hover label.sk-toggleable__label {background-color: #d4ebff;}#sk-container-id-3 div.sk-serial::before {content: \"\";position: absolute;border-left: 1px solid gray;box-sizing: border-box;top: 0;bottom: 0;left: 50%;z-index: 0;}#sk-container-id-3 div.sk-serial {display: flex;flex-direction: column;align-items: center;background-color: white;padding-right: 0.2em;padding-left: 0.2em;position: relative;}#sk-container-id-3 div.sk-item {position: relative;z-index: 1;}#sk-container-id-3 div.sk-parallel {display: flex;align-items: stretch;justify-content: center;background-color: white;position: relative;}#sk-container-id-3 div.sk-item::before, #sk-container-id-3 div.sk-parallel-item::before {content: \"\";position: absolute;border-left: 1px solid gray;box-sizing: border-box;top: 0;bottom: 0;left: 50%;z-index: -1;}#sk-container-id-3 div.sk-parallel-item {display: flex;flex-direction: column;z-index: 1;position: relative;background-color: white;}#sk-container-id-3 div.sk-parallel-item:first-child::after {align-self: flex-end;width: 50%;}#sk-container-id-3 div.sk-parallel-item:last-child::after {align-self: flex-start;width: 50%;}#sk-container-id-3 div.sk-parallel-item:only-child::after {width: 0;}#sk-container-id-3 div.sk-dashed-wrapped {border: 1px dashed gray;margin: 0 0.4em 0.5em 0.4em;box-sizing: border-box;padding-bottom: 0.4em;background-color: white;}#sk-container-id-3 div.sk-label label {font-family: monospace;font-weight: bold;display: inline-block;line-height: 1.2em;}#sk-container-id-3 div.sk-label-container {text-align: center;}#sk-container-id-3 div.sk-container {/* jupyter's `normalize.less` sets `[hidden] { display: none; }` but bootstrap.min.css set `[hidden] { display: none !important; }` so we also need the `!important` here to be able to override the default hidden behavior on the sphinx rendered scikit-learn.org. See: https://github.com/scikit-learn/scikit-learn/issues/21755 */display: inline-block !important;position: relative;}#sk-container-id-3 div.sk-text-repr-fallback {display: none;}</style><div id=\"sk-container-id-3\" class=\"sk-top-container\"><div class=\"sk-text-repr-fallback\"><pre>KNeighborsRegressor(n_neighbors=6)</pre><b>In a Jupyter environment, please rerun this cell to show the HTML representation or trust the notebook. <br />On GitHub, the HTML representation is unable to render, please try loading this page with nbviewer.org.</b></div><div class=\"sk-container\" hidden><div class=\"sk-item\"><div class=\"sk-estimator sk-toggleable\"><input class=\"sk-toggleable__control sk-hidden--visually\" id=\"sk-estimator-id-5\" type=\"checkbox\" checked><label for=\"sk-estimator-id-5\" class=\"sk-toggleable__label sk-toggleable__label-arrow\">KNeighborsRegressor</label><div class=\"sk-toggleable__content\"><pre>KNeighborsRegressor(n_neighbors=6)</pre></div></div></div></div></div>"
            ]
          },
          "metadata": {},
          "execution_count": 27
        }
      ]
    },
    {
      "cell_type": "code",
      "source": [
        "Y_pred=regressor.predict(x_test)"
      ],
      "metadata": {
        "id": "FrI4jPDm-M9N"
      },
      "execution_count": 28,
      "outputs": []
    },
    {
      "cell_type": "code",
      "source": [
        "from sklearn.metrics import r2_score,mean_absolute_error,mean_squared_error\n",
        "print(r2_score(Y_test,Y_pred))\n",
        "print(mean_absolute_error(Y_test,Y_pred))\n",
        "print(mean_squared_error(Y_test,Y_pred))"
      ],
      "metadata": {
        "colab": {
          "base_uri": "https://localhost:8080/"
        },
        "id": "HV9AxIsJ-a6s",
        "outputId": "26d559b5-b495-4655-9241-6ffdbc2dcd30"
      },
      "execution_count": 30,
      "outputs": [
        {
          "output_type": "stream",
          "name": "stdout",
          "text": [
            "0.7011711811042916\n",
            "0.12676767676767678\n",
            "0.07466329966329967\n"
          ]
        }
      ]
    },
    {
      "cell_type": "code",
      "source": [],
      "metadata": {
        "id": "LqEUUkjG-dZ-"
      },
      "execution_count": null,
      "outputs": []
    }
  ]
}