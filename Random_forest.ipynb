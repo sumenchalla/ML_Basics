{
  "nbformat": 4,
  "nbformat_minor": 0,
  "metadata": {
    "colab": {
      "provenance": []
    },
    "kernelspec": {
      "name": "python3",
      "display_name": "Python 3"
    },
    "language_info": {
      "name": "python"
    }
  },
  "cells": [
    {
      "cell_type": "code",
      "execution_count": 23,
      "metadata": {
        "id": "hyA_31p7b_7e"
      },
      "outputs": [],
      "source": [
        "import numpy as np\n",
        "import pandas as pd\n",
        "import seaborn as sns\n",
        "import matplotlib.pyplot as plt"
      ]
    },
    {
      "cell_type": "code",
      "source": [
        "df=sns.load_dataset('tips')\n",
        "df.head()"
      ],
      "metadata": {
        "colab": {
          "base_uri": "https://localhost:8080/",
          "height": 206
        },
        "id": "9EdW4UWBcOBu",
        "outputId": "77c16d2a-c71c-4b32-90a1-4bbe28918829"
      },
      "execution_count": 24,
      "outputs": [
        {
          "output_type": "execute_result",
          "data": {
            "text/plain": [
              "   total_bill   tip     sex smoker  day    time  size\n",
              "0       16.99  1.01  Female     No  Sun  Dinner     2\n",
              "1       10.34  1.66    Male     No  Sun  Dinner     3\n",
              "2       21.01  3.50    Male     No  Sun  Dinner     3\n",
              "3       23.68  3.31    Male     No  Sun  Dinner     2\n",
              "4       24.59  3.61  Female     No  Sun  Dinner     4"
            ],
            "text/html": [
              "\n",
              "  <div id=\"df-cc9c92d8-5f22-4844-bd9e-45990287fa55\" class=\"colab-df-container\">\n",
              "    <div>\n",
              "<style scoped>\n",
              "    .dataframe tbody tr th:only-of-type {\n",
              "        vertical-align: middle;\n",
              "    }\n",
              "\n",
              "    .dataframe tbody tr th {\n",
              "        vertical-align: top;\n",
              "    }\n",
              "\n",
              "    .dataframe thead th {\n",
              "        text-align: right;\n",
              "    }\n",
              "</style>\n",
              "<table border=\"1\" class=\"dataframe\">\n",
              "  <thead>\n",
              "    <tr style=\"text-align: right;\">\n",
              "      <th></th>\n",
              "      <th>total_bill</th>\n",
              "      <th>tip</th>\n",
              "      <th>sex</th>\n",
              "      <th>smoker</th>\n",
              "      <th>day</th>\n",
              "      <th>time</th>\n",
              "      <th>size</th>\n",
              "    </tr>\n",
              "  </thead>\n",
              "  <tbody>\n",
              "    <tr>\n",
              "      <th>0</th>\n",
              "      <td>16.99</td>\n",
              "      <td>1.01</td>\n",
              "      <td>Female</td>\n",
              "      <td>No</td>\n",
              "      <td>Sun</td>\n",
              "      <td>Dinner</td>\n",
              "      <td>2</td>\n",
              "    </tr>\n",
              "    <tr>\n",
              "      <th>1</th>\n",
              "      <td>10.34</td>\n",
              "      <td>1.66</td>\n",
              "      <td>Male</td>\n",
              "      <td>No</td>\n",
              "      <td>Sun</td>\n",
              "      <td>Dinner</td>\n",
              "      <td>3</td>\n",
              "    </tr>\n",
              "    <tr>\n",
              "      <th>2</th>\n",
              "      <td>21.01</td>\n",
              "      <td>3.50</td>\n",
              "      <td>Male</td>\n",
              "      <td>No</td>\n",
              "      <td>Sun</td>\n",
              "      <td>Dinner</td>\n",
              "      <td>3</td>\n",
              "    </tr>\n",
              "    <tr>\n",
              "      <th>3</th>\n",
              "      <td>23.68</td>\n",
              "      <td>3.31</td>\n",
              "      <td>Male</td>\n",
              "      <td>No</td>\n",
              "      <td>Sun</td>\n",
              "      <td>Dinner</td>\n",
              "      <td>2</td>\n",
              "    </tr>\n",
              "    <tr>\n",
              "      <th>4</th>\n",
              "      <td>24.59</td>\n",
              "      <td>3.61</td>\n",
              "      <td>Female</td>\n",
              "      <td>No</td>\n",
              "      <td>Sun</td>\n",
              "      <td>Dinner</td>\n",
              "      <td>4</td>\n",
              "    </tr>\n",
              "  </tbody>\n",
              "</table>\n",
              "</div>\n",
              "    <div class=\"colab-df-buttons\">\n",
              "\n",
              "  <div class=\"colab-df-container\">\n",
              "    <button class=\"colab-df-convert\" onclick=\"convertToInteractive('df-cc9c92d8-5f22-4844-bd9e-45990287fa55')\"\n",
              "            title=\"Convert this dataframe to an interactive table.\"\n",
              "            style=\"display:none;\">\n",
              "\n",
              "  <svg xmlns=\"http://www.w3.org/2000/svg\" height=\"24px\" viewBox=\"0 -960 960 960\">\n",
              "    <path d=\"M120-120v-720h720v720H120Zm60-500h600v-160H180v160Zm220 220h160v-160H400v160Zm0 220h160v-160H400v160ZM180-400h160v-160H180v160Zm440 0h160v-160H620v160ZM180-180h160v-160H180v160Zm440 0h160v-160H620v160Z\"/>\n",
              "  </svg>\n",
              "    </button>\n",
              "\n",
              "  <style>\n",
              "    .colab-df-container {\n",
              "      display:flex;\n",
              "      gap: 12px;\n",
              "    }\n",
              "\n",
              "    .colab-df-convert {\n",
              "      background-color: #E8F0FE;\n",
              "      border: none;\n",
              "      border-radius: 50%;\n",
              "      cursor: pointer;\n",
              "      display: none;\n",
              "      fill: #1967D2;\n",
              "      height: 32px;\n",
              "      padding: 0 0 0 0;\n",
              "      width: 32px;\n",
              "    }\n",
              "\n",
              "    .colab-df-convert:hover {\n",
              "      background-color: #E2EBFA;\n",
              "      box-shadow: 0px 1px 2px rgba(60, 64, 67, 0.3), 0px 1px 3px 1px rgba(60, 64, 67, 0.15);\n",
              "      fill: #174EA6;\n",
              "    }\n",
              "\n",
              "    .colab-df-buttons div {\n",
              "      margin-bottom: 4px;\n",
              "    }\n",
              "\n",
              "    [theme=dark] .colab-df-convert {\n",
              "      background-color: #3B4455;\n",
              "      fill: #D2E3FC;\n",
              "    }\n",
              "\n",
              "    [theme=dark] .colab-df-convert:hover {\n",
              "      background-color: #434B5C;\n",
              "      box-shadow: 0px 1px 3px 1px rgba(0, 0, 0, 0.15);\n",
              "      filter: drop-shadow(0px 1px 2px rgba(0, 0, 0, 0.3));\n",
              "      fill: #FFFFFF;\n",
              "    }\n",
              "  </style>\n",
              "\n",
              "    <script>\n",
              "      const buttonEl =\n",
              "        document.querySelector('#df-cc9c92d8-5f22-4844-bd9e-45990287fa55 button.colab-df-convert');\n",
              "      buttonEl.style.display =\n",
              "        google.colab.kernel.accessAllowed ? 'block' : 'none';\n",
              "\n",
              "      async function convertToInteractive(key) {\n",
              "        const element = document.querySelector('#df-cc9c92d8-5f22-4844-bd9e-45990287fa55');\n",
              "        const dataTable =\n",
              "          await google.colab.kernel.invokeFunction('convertToInteractive',\n",
              "                                                    [key], {});\n",
              "        if (!dataTable) return;\n",
              "\n",
              "        const docLinkHtml = 'Like what you see? Visit the ' +\n",
              "          '<a target=\"_blank\" href=https://colab.research.google.com/notebooks/data_table.ipynb>data table notebook</a>'\n",
              "          + ' to learn more about interactive tables.';\n",
              "        element.innerHTML = '';\n",
              "        dataTable['output_type'] = 'display_data';\n",
              "        await google.colab.output.renderOutput(dataTable, element);\n",
              "        const docLink = document.createElement('div');\n",
              "        docLink.innerHTML = docLinkHtml;\n",
              "        element.appendChild(docLink);\n",
              "      }\n",
              "    </script>\n",
              "  </div>\n",
              "\n",
              "\n",
              "<div id=\"df-a7eb9951-e5c9-40ee-9483-1d63b8aff652\">\n",
              "  <button class=\"colab-df-quickchart\" onclick=\"quickchart('df-a7eb9951-e5c9-40ee-9483-1d63b8aff652')\"\n",
              "            title=\"Suggest charts.\"\n",
              "            style=\"display:none;\">\n",
              "\n",
              "<svg xmlns=\"http://www.w3.org/2000/svg\" height=\"24px\"viewBox=\"0 0 24 24\"\n",
              "     width=\"24px\">\n",
              "    <g>\n",
              "        <path d=\"M19 3H5c-1.1 0-2 .9-2 2v14c0 1.1.9 2 2 2h14c1.1 0 2-.9 2-2V5c0-1.1-.9-2-2-2zM9 17H7v-7h2v7zm4 0h-2V7h2v10zm4 0h-2v-4h2v4z\"/>\n",
              "    </g>\n",
              "</svg>\n",
              "  </button>\n",
              "\n",
              "<style>\n",
              "  .colab-df-quickchart {\n",
              "      --bg-color: #E8F0FE;\n",
              "      --fill-color: #1967D2;\n",
              "      --hover-bg-color: #E2EBFA;\n",
              "      --hover-fill-color: #174EA6;\n",
              "      --disabled-fill-color: #AAA;\n",
              "      --disabled-bg-color: #DDD;\n",
              "  }\n",
              "\n",
              "  [theme=dark] .colab-df-quickchart {\n",
              "      --bg-color: #3B4455;\n",
              "      --fill-color: #D2E3FC;\n",
              "      --hover-bg-color: #434B5C;\n",
              "      --hover-fill-color: #FFFFFF;\n",
              "      --disabled-bg-color: #3B4455;\n",
              "      --disabled-fill-color: #666;\n",
              "  }\n",
              "\n",
              "  .colab-df-quickchart {\n",
              "    background-color: var(--bg-color);\n",
              "    border: none;\n",
              "    border-radius: 50%;\n",
              "    cursor: pointer;\n",
              "    display: none;\n",
              "    fill: var(--fill-color);\n",
              "    height: 32px;\n",
              "    padding: 0;\n",
              "    width: 32px;\n",
              "  }\n",
              "\n",
              "  .colab-df-quickchart:hover {\n",
              "    background-color: var(--hover-bg-color);\n",
              "    box-shadow: 0 1px 2px rgba(60, 64, 67, 0.3), 0 1px 3px 1px rgba(60, 64, 67, 0.15);\n",
              "    fill: var(--button-hover-fill-color);\n",
              "  }\n",
              "\n",
              "  .colab-df-quickchart-complete:disabled,\n",
              "  .colab-df-quickchart-complete:disabled:hover {\n",
              "    background-color: var(--disabled-bg-color);\n",
              "    fill: var(--disabled-fill-color);\n",
              "    box-shadow: none;\n",
              "  }\n",
              "\n",
              "  .colab-df-spinner {\n",
              "    border: 2px solid var(--fill-color);\n",
              "    border-color: transparent;\n",
              "    border-bottom-color: var(--fill-color);\n",
              "    animation:\n",
              "      spin 1s steps(1) infinite;\n",
              "  }\n",
              "\n",
              "  @keyframes spin {\n",
              "    0% {\n",
              "      border-color: transparent;\n",
              "      border-bottom-color: var(--fill-color);\n",
              "      border-left-color: var(--fill-color);\n",
              "    }\n",
              "    20% {\n",
              "      border-color: transparent;\n",
              "      border-left-color: var(--fill-color);\n",
              "      border-top-color: var(--fill-color);\n",
              "    }\n",
              "    30% {\n",
              "      border-color: transparent;\n",
              "      border-left-color: var(--fill-color);\n",
              "      border-top-color: var(--fill-color);\n",
              "      border-right-color: var(--fill-color);\n",
              "    }\n",
              "    40% {\n",
              "      border-color: transparent;\n",
              "      border-right-color: var(--fill-color);\n",
              "      border-top-color: var(--fill-color);\n",
              "    }\n",
              "    60% {\n",
              "      border-color: transparent;\n",
              "      border-right-color: var(--fill-color);\n",
              "    }\n",
              "    80% {\n",
              "      border-color: transparent;\n",
              "      border-right-color: var(--fill-color);\n",
              "      border-bottom-color: var(--fill-color);\n",
              "    }\n",
              "    90% {\n",
              "      border-color: transparent;\n",
              "      border-bottom-color: var(--fill-color);\n",
              "    }\n",
              "  }\n",
              "</style>\n",
              "\n",
              "  <script>\n",
              "    async function quickchart(key) {\n",
              "      const quickchartButtonEl =\n",
              "        document.querySelector('#' + key + ' button');\n",
              "      quickchartButtonEl.disabled = true;  // To prevent multiple clicks.\n",
              "      quickchartButtonEl.classList.add('colab-df-spinner');\n",
              "      try {\n",
              "        const charts = await google.colab.kernel.invokeFunction(\n",
              "            'suggestCharts', [key], {});\n",
              "      } catch (error) {\n",
              "        console.error('Error during call to suggestCharts:', error);\n",
              "      }\n",
              "      quickchartButtonEl.classList.remove('colab-df-spinner');\n",
              "      quickchartButtonEl.classList.add('colab-df-quickchart-complete');\n",
              "    }\n",
              "    (() => {\n",
              "      let quickchartButtonEl =\n",
              "        document.querySelector('#df-a7eb9951-e5c9-40ee-9483-1d63b8aff652 button');\n",
              "      quickchartButtonEl.style.display =\n",
              "        google.colab.kernel.accessAllowed ? 'block' : 'none';\n",
              "    })();\n",
              "  </script>\n",
              "</div>\n",
              "    </div>\n",
              "  </div>\n"
            ]
          },
          "metadata": {},
          "execution_count": 24
        }
      ]
    },
    {
      "cell_type": "code",
      "source": [
        "df.info()"
      ],
      "metadata": {
        "colab": {
          "base_uri": "https://localhost:8080/"
        },
        "id": "5s2yNacvdFTG",
        "outputId": "fe697228-b100-4bf2-dc23-a836589bd716"
      },
      "execution_count": 25,
      "outputs": [
        {
          "output_type": "stream",
          "name": "stdout",
          "text": [
            "<class 'pandas.core.frame.DataFrame'>\n",
            "RangeIndex: 244 entries, 0 to 243\n",
            "Data columns (total 7 columns):\n",
            " #   Column      Non-Null Count  Dtype   \n",
            "---  ------      --------------  -----   \n",
            " 0   total_bill  244 non-null    float64 \n",
            " 1   tip         244 non-null    float64 \n",
            " 2   sex         244 non-null    category\n",
            " 3   smoker      244 non-null    category\n",
            " 4   day         244 non-null    category\n",
            " 5   time        244 non-null    category\n",
            " 6   size        244 non-null    int64   \n",
            "dtypes: category(4), float64(2), int64(1)\n",
            "memory usage: 7.4 KB\n"
          ]
        }
      ]
    },
    {
      "cell_type": "code",
      "source": [
        "##Here we are trying to predit the output which is 'time' but it is in category datatype so we are doing to\n",
        "#LabelEncoding to convet object type into numerical types\n",
        "\n",
        "from sklearn.preprocessing import LabelEncoder\n",
        "encoder=LabelEncoder()\n",
        "df['time']=encoder.fit_transform(df['time'])"
      ],
      "metadata": {
        "id": "rK-HLyjHdGzu"
      },
      "execution_count": 26,
      "outputs": []
    },
    {
      "cell_type": "code",
      "source": [
        "df['time'].value_counts()"
      ],
      "metadata": {
        "colab": {
          "base_uri": "https://localhost:8080/"
        },
        "id": "9-ogG8NXdq4h",
        "outputId": "bf0c9f20-00c5-4922-bd96-8f8346a80bfd"
      },
      "execution_count": 27,
      "outputs": [
        {
          "output_type": "execute_result",
          "data": {
            "text/plain": [
              "0    176\n",
              "1     68\n",
              "Name: time, dtype: int64"
            ]
          },
          "metadata": {},
          "execution_count": 27
        }
      ]
    },
    {
      "cell_type": "code",
      "source": [
        "#dividing the data into dependent and independent\n",
        "x=df.drop(labels=['time'],axis=1)\n",
        "y=df['time']"
      ],
      "metadata": {
        "id": "F0DLdMO_dx7S"
      },
      "execution_count": 28,
      "outputs": []
    },
    {
      "cell_type": "code",
      "source": [
        "from sklearn.model_selection import train_test_split"
      ],
      "metadata": {
        "id": "WcDoNWlueV06"
      },
      "execution_count": 29,
      "outputs": []
    },
    {
      "cell_type": "code",
      "source": [
        "x_train,x_test,y_train,y_test=train_test_split(x,y,test_size=0.25,random_state=17)"
      ],
      "metadata": {
        "id": "gFkjTvVTebNa"
      },
      "execution_count": 30,
      "outputs": []
    },
    {
      "cell_type": "code",
      "source": [
        "#@title Steps to be carried out in ML predictiom\n",
        "## Handling Missing Values\n",
        "## handling Categorical features\n",
        "## handling outliers\n",
        "## Feature scaling\n",
        "## Automating the entire"
      ],
      "metadata": {
        "id": "kyaKJ--2ewdm"
      },
      "execution_count": 31,
      "outputs": []
    },
    {
      "cell_type": "code",
      "source": [
        "from sklearn.impute import SimpleImputer ## Handling Missing Values\n",
        "from sklearn.preprocessing import OneHotEncoder## handling Categorical features\n",
        "from sklearn.preprocessing import StandardScaler## Feature scaling\n",
        "from sklearn.pipeline import Pipeline\n",
        "from sklearn.compose import ColumnTransformer\n",
        "## Automating the entire"
      ],
      "metadata": {
        "id": "INXRVsnav2il"
      },
      "execution_count": 33,
      "outputs": []
    },
    {
      "cell_type": "code",
      "source": [
        "categorical_cols = ['sex', 'smoker','day']\n",
        "numerical_cols = ['total_bill', 'tip','size']"
      ],
      "metadata": {
        "id": "Kg1KY3iywGZO"
      },
      "execution_count": 34,
      "outputs": []
    },
    {
      "cell_type": "code",
      "source": [
        "## Feature Engineering Automation\n",
        "num_pipeline=Pipeline(\n",
        "    steps=[\n",
        "        ('imputer',SimpleImputer(strategy='median')), ##missing values\n",
        "        ('scaler',StandardScaler())## feature scaling\n",
        "    ]\n",
        "\n",
        ")\n",
        "\n",
        "#categorical Pipeline\n",
        "cat_pipeline=Pipeline(\n",
        "                steps=[\n",
        "                ('imputer',SimpleImputer(strategy='most_frequent')), ## handling Missing values\n",
        "                ('onehotencoder',OneHotEncoder()) ## Categorical features to numerical\n",
        "                ]\n",
        "\n",
        "            )\n"
      ],
      "metadata": {
        "id": "PR3sEfg7wIrD"
      },
      "execution_count": 35,
      "outputs": []
    },
    {
      "cell_type": "code",
      "source": [
        "preprocessor=ColumnTransformer([\n",
        "    ('num_pipeline',num_pipeline,numerical_cols),\n",
        "    ('cat_pipeline',cat_pipeline,categorical_cols)\n",
        "\n",
        "])"
      ],
      "metadata": {
        "id": "sHDDeqZTwLyG"
      },
      "execution_count": 36,
      "outputs": []
    },
    {
      "cell_type": "code",
      "source": [
        "x_train=preprocessor.fit_transform(x_train)\n",
        "x_test=preprocessor.transform(x_test)"
      ],
      "metadata": {
        "id": "pGB0osafwOF3"
      },
      "execution_count": 38,
      "outputs": []
    },
    {
      "cell_type": "code",
      "source": [
        "from sklearn.ensemble import RandomForestClassifier\n",
        "from sklearn.tree import DecisionTreeClassifier\n",
        "from sklearn.svm import SVC"
      ],
      "metadata": {
        "id": "YZevvL3zwQ5J"
      },
      "execution_count": 39,
      "outputs": []
    },
    {
      "cell_type": "code",
      "source": [
        "## Automate Model Training Process\n",
        "models={\n",
        "    'Random Forest':RandomForestClassifier(),\n",
        "    'Decision Tree':DecisionTreeClassifier(),\n",
        "    'SVC':SVC()\n",
        "\n",
        "}"
      ],
      "metadata": {
        "id": "SsY8DFaiwYnN"
      },
      "execution_count": 40,
      "outputs": []
    },
    {
      "cell_type": "code",
      "source": [
        "from sklearn.metrics import accuracy_score"
      ],
      "metadata": {
        "id": "RSozHS0lwamE"
      },
      "execution_count": 41,
      "outputs": []
    },
    {
      "cell_type": "code",
      "source": [
        "def evaluate_model(X_train,y_train,X_test,y_test,models):\n",
        "\n",
        "    report = {}\n",
        "    for i in range(len(models)):\n",
        "        model = list(models.values())[i]\n",
        "        # Train model\n",
        "        model.fit(X_train,y_train)\n",
        "\n",
        "\n",
        "\n",
        "        # Predict Testing data\n",
        "        y_test_pred =model.predict(X_test)\n",
        "\n",
        "        # Get accuracy for test data prediction\n",
        "\n",
        "        test_model_score = accuracy_score(y_test,y_test_pred)\n",
        "\n",
        "        report[list(models.keys())[i]] =  test_model_score\n",
        "\n",
        "\n",
        "\n",
        "    return report"
      ],
      "metadata": {
        "id": "IrcD_sxTwcin"
      },
      "execution_count": 42,
      "outputs": []
    },
    {
      "cell_type": "code",
      "source": [
        "evaluate_model(x_train,y_train,x_test,y_test,models)"
      ],
      "metadata": {
        "colab": {
          "base_uri": "https://localhost:8080/"
        },
        "id": "W45DgAOpwfEC",
        "outputId": "1f81f949-5dbd-4af2-d550-9535f38a036d"
      },
      "execution_count": 44,
      "outputs": [
        {
          "output_type": "execute_result",
          "data": {
            "text/plain": [
              "{'Random Forest': 0.9508196721311475,\n",
              " 'Decision Tree': 0.9180327868852459,\n",
              " 'SVC': 0.9508196721311475}"
            ]
          },
          "metadata": {},
          "execution_count": 44
        }
      ]
    },
    {
      "cell_type": "code",
      "source": [
        "classifier=RandomForestClassifier()"
      ],
      "metadata": {
        "id": "NqjVVu09whlu"
      },
      "execution_count": 45,
      "outputs": []
    },
    {
      "cell_type": "code",
      "source": [
        "## Hypeparameter Tuning\n",
        "params={'max_depth':[3,5,10,None],\n",
        "              'n_estimators':[100,200,300],\n",
        "               'criterion':['gini','entropy']\n",
        "              }"
      ],
      "metadata": {
        "id": "sDyk9IuEwsVA"
      },
      "execution_count": 46,
      "outputs": []
    },
    {
      "cell_type": "code",
      "source": [
        "from sklearn.model_selection import RandomizedSearchCV"
      ],
      "metadata": {
        "id": "sQ5mHC55wvH4"
      },
      "execution_count": 47,
      "outputs": []
    },
    {
      "cell_type": "code",
      "source": [
        "cv=RandomizedSearchCV(classifier,param_distributions=params,scoring='accuracy',cv=5,verbose=3)\n",
        "cv.fit(x_train,y_train)"
      ],
      "metadata": {
        "colab": {
          "base_uri": "https://localhost:8080/",
          "height": 1000
        },
        "id": "-0xySZJiwxU4",
        "outputId": "8d8449cc-3e31-4290-9cba-20415a6269d6"
      },
      "execution_count": 49,
      "outputs": [
        {
          "output_type": "stream",
          "name": "stdout",
          "text": [
            "Fitting 5 folds for each of 10 candidates, totalling 50 fits\n",
            "[CV 1/5] END criterion=entropy, max_depth=5, n_estimators=300;, score=0.946 total time=   0.5s\n",
            "[CV 2/5] END criterion=entropy, max_depth=5, n_estimators=300;, score=0.973 total time=   0.5s\n",
            "[CV 3/5] END criterion=entropy, max_depth=5, n_estimators=300;, score=0.946 total time=   0.5s\n",
            "[CV 4/5] END criterion=entropy, max_depth=5, n_estimators=300;, score=0.972 total time=   0.5s\n",
            "[CV 5/5] END criterion=entropy, max_depth=5, n_estimators=300;, score=0.944 total time=   0.5s\n",
            "[CV 1/5] END criterion=entropy, max_depth=5, n_estimators=100;, score=0.946 total time=   0.1s\n",
            "[CV 2/5] END criterion=entropy, max_depth=5, n_estimators=100;, score=0.946 total time=   0.2s\n",
            "[CV 3/5] END criterion=entropy, max_depth=5, n_estimators=100;, score=0.946 total time=   0.3s\n",
            "[CV 4/5] END criterion=entropy, max_depth=5, n_estimators=100;, score=1.000 total time=   0.3s\n",
            "[CV 5/5] END criterion=entropy, max_depth=5, n_estimators=100;, score=0.972 total time=   0.3s\n",
            "[CV 1/5] END criterion=entropy, max_depth=None, n_estimators=200;, score=0.946 total time=   0.5s\n",
            "[CV 2/5] END criterion=entropy, max_depth=None, n_estimators=200;, score=0.919 total time=   0.5s\n",
            "[CV 3/5] END criterion=entropy, max_depth=None, n_estimators=200;, score=0.946 total time=   0.5s\n",
            "[CV 4/5] END criterion=entropy, max_depth=None, n_estimators=200;, score=0.972 total time=   0.5s\n",
            "[CV 5/5] END criterion=entropy, max_depth=None, n_estimators=200;, score=0.972 total time=   0.3s\n",
            "[CV 1/5] END criterion=entropy, max_depth=3, n_estimators=300;, score=0.973 total time=   0.5s\n",
            "[CV 2/5] END criterion=entropy, max_depth=3, n_estimators=300;, score=0.973 total time=   0.5s\n",
            "[CV 3/5] END criterion=entropy, max_depth=3, n_estimators=300;, score=0.919 total time=   0.5s\n",
            "[CV 4/5] END criterion=entropy, max_depth=3, n_estimators=300;, score=0.944 total time=   0.5s\n",
            "[CV 5/5] END criterion=entropy, max_depth=3, n_estimators=300;, score=0.944 total time=   0.5s\n",
            "[CV 1/5] END criterion=gini, max_depth=3, n_estimators=300;, score=0.973 total time=   0.5s\n",
            "[CV 2/5] END criterion=gini, max_depth=3, n_estimators=300;, score=0.973 total time=   0.4s\n",
            "[CV 3/5] END criterion=gini, max_depth=3, n_estimators=300;, score=0.919 total time=   0.5s\n",
            "[CV 4/5] END criterion=gini, max_depth=3, n_estimators=300;, score=0.944 total time=   0.5s\n",
            "[CV 5/5] END criterion=gini, max_depth=3, n_estimators=300;, score=0.944 total time=   0.5s\n",
            "[CV 1/5] END criterion=entropy, max_depth=10, n_estimators=100;, score=0.946 total time=   0.2s\n",
            "[CV 2/5] END criterion=entropy, max_depth=10, n_estimators=100;, score=0.973 total time=   0.1s\n",
            "[CV 3/5] END criterion=entropy, max_depth=10, n_estimators=100;, score=0.973 total time=   0.2s\n",
            "[CV 4/5] END criterion=entropy, max_depth=10, n_estimators=100;, score=0.972 total time=   0.2s\n",
            "[CV 5/5] END criterion=entropy, max_depth=10, n_estimators=100;, score=1.000 total time=   0.2s\n",
            "[CV 1/5] END criterion=gini, max_depth=10, n_estimators=200;, score=0.946 total time=   0.3s\n",
            "[CV 2/5] END criterion=gini, max_depth=10, n_estimators=200;, score=0.919 total time=   0.3s\n",
            "[CV 3/5] END criterion=gini, max_depth=10, n_estimators=200;, score=0.946 total time=   0.3s\n",
            "[CV 4/5] END criterion=gini, max_depth=10, n_estimators=200;, score=0.972 total time=   0.3s\n",
            "[CV 5/5] END criterion=gini, max_depth=10, n_estimators=200;, score=0.972 total time=   0.3s\n",
            "[CV 1/5] END criterion=gini, max_depth=10, n_estimators=100;, score=0.946 total time=   0.1s\n",
            "[CV 2/5] END criterion=gini, max_depth=10, n_estimators=100;, score=0.919 total time=   0.2s\n",
            "[CV 3/5] END criterion=gini, max_depth=10, n_estimators=100;, score=0.946 total time=   0.2s\n",
            "[CV 4/5] END criterion=gini, max_depth=10, n_estimators=100;, score=0.972 total time=   0.2s\n",
            "[CV 5/5] END criterion=gini, max_depth=10, n_estimators=100;, score=0.972 total time=   0.2s\n",
            "[CV 1/5] END criterion=gini, max_depth=3, n_estimators=200;, score=0.973 total time=   0.3s\n",
            "[CV 2/5] END criterion=gini, max_depth=3, n_estimators=200;, score=0.973 total time=   0.3s\n",
            "[CV 3/5] END criterion=gini, max_depth=3, n_estimators=200;, score=0.919 total time=   0.3s\n",
            "[CV 4/5] END criterion=gini, max_depth=3, n_estimators=200;, score=0.944 total time=   0.3s\n",
            "[CV 5/5] END criterion=gini, max_depth=3, n_estimators=200;, score=0.944 total time=   0.3s\n",
            "[CV 1/5] END criterion=gini, max_depth=5, n_estimators=200;, score=0.946 total time=   0.3s\n",
            "[CV 2/5] END criterion=gini, max_depth=5, n_estimators=200;, score=0.973 total time=   0.5s\n",
            "[CV 3/5] END criterion=gini, max_depth=5, n_estimators=200;, score=0.946 total time=   0.5s\n",
            "[CV 4/5] END criterion=gini, max_depth=5, n_estimators=200;, score=0.972 total time=   0.5s\n",
            "[CV 5/5] END criterion=gini, max_depth=5, n_estimators=200;, score=0.972 total time=   0.5s\n"
          ]
        },
        {
          "output_type": "execute_result",
          "data": {
            "text/plain": [
              "RandomizedSearchCV(cv=5, estimator=RandomForestClassifier(),\n",
              "                   param_distributions={'criterion': ['gini', 'entropy'],\n",
              "                                        'max_depth': [3, 5, 10, None],\n",
              "                                        'n_estimators': [100, 200, 300]},\n",
              "                   scoring='accuracy', verbose=3)"
            ],
            "text/html": [
              "<style>#sk-container-id-1 {color: black;background-color: white;}#sk-container-id-1 pre{padding: 0;}#sk-container-id-1 div.sk-toggleable {background-color: white;}#sk-container-id-1 label.sk-toggleable__label {cursor: pointer;display: block;width: 100%;margin-bottom: 0;padding: 0.3em;box-sizing: border-box;text-align: center;}#sk-container-id-1 label.sk-toggleable__label-arrow:before {content: \"▸\";float: left;margin-right: 0.25em;color: #696969;}#sk-container-id-1 label.sk-toggleable__label-arrow:hover:before {color: black;}#sk-container-id-1 div.sk-estimator:hover label.sk-toggleable__label-arrow:before {color: black;}#sk-container-id-1 div.sk-toggleable__content {max-height: 0;max-width: 0;overflow: hidden;text-align: left;background-color: #f0f8ff;}#sk-container-id-1 div.sk-toggleable__content pre {margin: 0.2em;color: black;border-radius: 0.25em;background-color: #f0f8ff;}#sk-container-id-1 input.sk-toggleable__control:checked~div.sk-toggleable__content {max-height: 200px;max-width: 100%;overflow: auto;}#sk-container-id-1 input.sk-toggleable__control:checked~label.sk-toggleable__label-arrow:before {content: \"▾\";}#sk-container-id-1 div.sk-estimator input.sk-toggleable__control:checked~label.sk-toggleable__label {background-color: #d4ebff;}#sk-container-id-1 div.sk-label input.sk-toggleable__control:checked~label.sk-toggleable__label {background-color: #d4ebff;}#sk-container-id-1 input.sk-hidden--visually {border: 0;clip: rect(1px 1px 1px 1px);clip: rect(1px, 1px, 1px, 1px);height: 1px;margin: -1px;overflow: hidden;padding: 0;position: absolute;width: 1px;}#sk-container-id-1 div.sk-estimator {font-family: monospace;background-color: #f0f8ff;border: 1px dotted black;border-radius: 0.25em;box-sizing: border-box;margin-bottom: 0.5em;}#sk-container-id-1 div.sk-estimator:hover {background-color: #d4ebff;}#sk-container-id-1 div.sk-parallel-item::after {content: \"\";width: 100%;border-bottom: 1px solid gray;flex-grow: 1;}#sk-container-id-1 div.sk-label:hover label.sk-toggleable__label {background-color: #d4ebff;}#sk-container-id-1 div.sk-serial::before {content: \"\";position: absolute;border-left: 1px solid gray;box-sizing: border-box;top: 0;bottom: 0;left: 50%;z-index: 0;}#sk-container-id-1 div.sk-serial {display: flex;flex-direction: column;align-items: center;background-color: white;padding-right: 0.2em;padding-left: 0.2em;position: relative;}#sk-container-id-1 div.sk-item {position: relative;z-index: 1;}#sk-container-id-1 div.sk-parallel {display: flex;align-items: stretch;justify-content: center;background-color: white;position: relative;}#sk-container-id-1 div.sk-item::before, #sk-container-id-1 div.sk-parallel-item::before {content: \"\";position: absolute;border-left: 1px solid gray;box-sizing: border-box;top: 0;bottom: 0;left: 50%;z-index: -1;}#sk-container-id-1 div.sk-parallel-item {display: flex;flex-direction: column;z-index: 1;position: relative;background-color: white;}#sk-container-id-1 div.sk-parallel-item:first-child::after {align-self: flex-end;width: 50%;}#sk-container-id-1 div.sk-parallel-item:last-child::after {align-self: flex-start;width: 50%;}#sk-container-id-1 div.sk-parallel-item:only-child::after {width: 0;}#sk-container-id-1 div.sk-dashed-wrapped {border: 1px dashed gray;margin: 0 0.4em 0.5em 0.4em;box-sizing: border-box;padding-bottom: 0.4em;background-color: white;}#sk-container-id-1 div.sk-label label {font-family: monospace;font-weight: bold;display: inline-block;line-height: 1.2em;}#sk-container-id-1 div.sk-label-container {text-align: center;}#sk-container-id-1 div.sk-container {/* jupyter's `normalize.less` sets `[hidden] { display: none; }` but bootstrap.min.css set `[hidden] { display: none !important; }` so we also need the `!important` here to be able to override the default hidden behavior on the sphinx rendered scikit-learn.org. See: https://github.com/scikit-learn/scikit-learn/issues/21755 */display: inline-block !important;position: relative;}#sk-container-id-1 div.sk-text-repr-fallback {display: none;}</style><div id=\"sk-container-id-1\" class=\"sk-top-container\"><div class=\"sk-text-repr-fallback\"><pre>RandomizedSearchCV(cv=5, estimator=RandomForestClassifier(),\n",
              "                   param_distributions={&#x27;criterion&#x27;: [&#x27;gini&#x27;, &#x27;entropy&#x27;],\n",
              "                                        &#x27;max_depth&#x27;: [3, 5, 10, None],\n",
              "                                        &#x27;n_estimators&#x27;: [100, 200, 300]},\n",
              "                   scoring=&#x27;accuracy&#x27;, verbose=3)</pre><b>In a Jupyter environment, please rerun this cell to show the HTML representation or trust the notebook. <br />On GitHub, the HTML representation is unable to render, please try loading this page with nbviewer.org.</b></div><div class=\"sk-container\" hidden><div class=\"sk-item sk-dashed-wrapped\"><div class=\"sk-label-container\"><div class=\"sk-label sk-toggleable\"><input class=\"sk-toggleable__control sk-hidden--visually\" id=\"sk-estimator-id-1\" type=\"checkbox\" ><label for=\"sk-estimator-id-1\" class=\"sk-toggleable__label sk-toggleable__label-arrow\">RandomizedSearchCV</label><div class=\"sk-toggleable__content\"><pre>RandomizedSearchCV(cv=5, estimator=RandomForestClassifier(),\n",
              "                   param_distributions={&#x27;criterion&#x27;: [&#x27;gini&#x27;, &#x27;entropy&#x27;],\n",
              "                                        &#x27;max_depth&#x27;: [3, 5, 10, None],\n",
              "                                        &#x27;n_estimators&#x27;: [100, 200, 300]},\n",
              "                   scoring=&#x27;accuracy&#x27;, verbose=3)</pre></div></div></div><div class=\"sk-parallel\"><div class=\"sk-parallel-item\"><div class=\"sk-item\"><div class=\"sk-label-container\"><div class=\"sk-label sk-toggleable\"><input class=\"sk-toggleable__control sk-hidden--visually\" id=\"sk-estimator-id-2\" type=\"checkbox\" ><label for=\"sk-estimator-id-2\" class=\"sk-toggleable__label sk-toggleable__label-arrow\">estimator: RandomForestClassifier</label><div class=\"sk-toggleable__content\"><pre>RandomForestClassifier()</pre></div></div></div><div class=\"sk-serial\"><div class=\"sk-item\"><div class=\"sk-estimator sk-toggleable\"><input class=\"sk-toggleable__control sk-hidden--visually\" id=\"sk-estimator-id-3\" type=\"checkbox\" ><label for=\"sk-estimator-id-3\" class=\"sk-toggleable__label sk-toggleable__label-arrow\">RandomForestClassifier</label><div class=\"sk-toggleable__content\"><pre>RandomForestClassifier()</pre></div></div></div></div></div></div></div></div></div></div>"
            ]
          },
          "metadata": {},
          "execution_count": 49
        }
      ]
    },
    {
      "cell_type": "code",
      "source": [
        "cv.best_params_"
      ],
      "metadata": {
        "colab": {
          "base_uri": "https://localhost:8080/"
        },
        "id": "ZVxF9epDwzgk",
        "outputId": "51fa45e2-bc62-4580-857b-88b415d4e9e1"
      },
      "execution_count": 50,
      "outputs": [
        {
          "output_type": "execute_result",
          "data": {
            "text/plain": [
              "{'n_estimators': 100, 'max_depth': 10, 'criterion': 'entropy'}"
            ]
          },
          "metadata": {},
          "execution_count": 50
        }
      ]
    },
    {
      "cell_type": "code",
      "source": [],
      "metadata": {
        "id": "YgE4umsixCNN"
      },
      "execution_count": null,
      "outputs": []
    }
  ]
}