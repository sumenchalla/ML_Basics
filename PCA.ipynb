{
  "nbformat": 4,
  "nbformat_minor": 0,
  "metadata": {
    "colab": {
      "provenance": []
    },
    "kernelspec": {
      "name": "python3",
      "display_name": "Python 3"
    },
    "language_info": {
      "name": "python"
    }
  },
  "cells": [
    {
      "cell_type": "code",
      "execution_count": 1,
      "metadata": {
        "id": "AGbZ6zUT_L08"
      },
      "outputs": [],
      "source": [
        "import pandas as pd\n",
        "import numpy as np\n",
        "import seaborn as sns\n",
        "import matplotlib.pyplot as plt"
      ]
    },
    {
      "cell_type": "code",
      "source": [
        "from sklearn.decomposition import PCA\n",
        "from sklearn import datasets"
      ],
      "metadata": {
        "id": "fMqKXior_rmI"
      },
      "execution_count": 2,
      "outputs": []
    },
    {
      "cell_type": "code",
      "source": [
        "dataset=datasets.load_iris()\n",
        "X=dataset['data']\n",
        "y=dataset['target']"
      ],
      "metadata": {
        "id": "gcxdXvc9_W5X"
      },
      "execution_count": 3,
      "outputs": []
    },
    {
      "cell_type": "code",
      "source": [
        "from sklearn.model_selection import train_test_split\n",
        "\n",
        "X_train, X_test, y_train, y_test = train_test_split(X, y, test_size=0.33, random_state=17)"
      ],
      "metadata": {
        "id": "CT56Zbm9_wjW"
      },
      "execution_count": 4,
      "outputs": []
    },
    {
      "cell_type": "code",
      "source": [
        "## PCA- Transformation\n",
        "pca=PCA(n_components=3)\n",
        "pca"
      ],
      "metadata": {
        "colab": {
          "base_uri": "https://localhost:8080/",
          "height": 74
        },
        "id": "9yCm7Z-Y_04q",
        "outputId": "1fde9841-e734-4e7d-c8f6-b9a0ee50fca2"
      },
      "execution_count": 5,
      "outputs": [
        {
          "output_type": "execute_result",
          "data": {
            "text/plain": [
              "PCA(n_components=3)"
            ],
            "text/html": [
              "<style>#sk-container-id-1 {color: black;background-color: white;}#sk-container-id-1 pre{padding: 0;}#sk-container-id-1 div.sk-toggleable {background-color: white;}#sk-container-id-1 label.sk-toggleable__label {cursor: pointer;display: block;width: 100%;margin-bottom: 0;padding: 0.3em;box-sizing: border-box;text-align: center;}#sk-container-id-1 label.sk-toggleable__label-arrow:before {content: \"▸\";float: left;margin-right: 0.25em;color: #696969;}#sk-container-id-1 label.sk-toggleable__label-arrow:hover:before {color: black;}#sk-container-id-1 div.sk-estimator:hover label.sk-toggleable__label-arrow:before {color: black;}#sk-container-id-1 div.sk-toggleable__content {max-height: 0;max-width: 0;overflow: hidden;text-align: left;background-color: #f0f8ff;}#sk-container-id-1 div.sk-toggleable__content pre {margin: 0.2em;color: black;border-radius: 0.25em;background-color: #f0f8ff;}#sk-container-id-1 input.sk-toggleable__control:checked~div.sk-toggleable__content {max-height: 200px;max-width: 100%;overflow: auto;}#sk-container-id-1 input.sk-toggleable__control:checked~label.sk-toggleable__label-arrow:before {content: \"▾\";}#sk-container-id-1 div.sk-estimator input.sk-toggleable__control:checked~label.sk-toggleable__label {background-color: #d4ebff;}#sk-container-id-1 div.sk-label input.sk-toggleable__control:checked~label.sk-toggleable__label {background-color: #d4ebff;}#sk-container-id-1 input.sk-hidden--visually {border: 0;clip: rect(1px 1px 1px 1px);clip: rect(1px, 1px, 1px, 1px);height: 1px;margin: -1px;overflow: hidden;padding: 0;position: absolute;width: 1px;}#sk-container-id-1 div.sk-estimator {font-family: monospace;background-color: #f0f8ff;border: 1px dotted black;border-radius: 0.25em;box-sizing: border-box;margin-bottom: 0.5em;}#sk-container-id-1 div.sk-estimator:hover {background-color: #d4ebff;}#sk-container-id-1 div.sk-parallel-item::after {content: \"\";width: 100%;border-bottom: 1px solid gray;flex-grow: 1;}#sk-container-id-1 div.sk-label:hover label.sk-toggleable__label {background-color: #d4ebff;}#sk-container-id-1 div.sk-serial::before {content: \"\";position: absolute;border-left: 1px solid gray;box-sizing: border-box;top: 0;bottom: 0;left: 50%;z-index: 0;}#sk-container-id-1 div.sk-serial {display: flex;flex-direction: column;align-items: center;background-color: white;padding-right: 0.2em;padding-left: 0.2em;position: relative;}#sk-container-id-1 div.sk-item {position: relative;z-index: 1;}#sk-container-id-1 div.sk-parallel {display: flex;align-items: stretch;justify-content: center;background-color: white;position: relative;}#sk-container-id-1 div.sk-item::before, #sk-container-id-1 div.sk-parallel-item::before {content: \"\";position: absolute;border-left: 1px solid gray;box-sizing: border-box;top: 0;bottom: 0;left: 50%;z-index: -1;}#sk-container-id-1 div.sk-parallel-item {display: flex;flex-direction: column;z-index: 1;position: relative;background-color: white;}#sk-container-id-1 div.sk-parallel-item:first-child::after {align-self: flex-end;width: 50%;}#sk-container-id-1 div.sk-parallel-item:last-child::after {align-self: flex-start;width: 50%;}#sk-container-id-1 div.sk-parallel-item:only-child::after {width: 0;}#sk-container-id-1 div.sk-dashed-wrapped {border: 1px dashed gray;margin: 0 0.4em 0.5em 0.4em;box-sizing: border-box;padding-bottom: 0.4em;background-color: white;}#sk-container-id-1 div.sk-label label {font-family: monospace;font-weight: bold;display: inline-block;line-height: 1.2em;}#sk-container-id-1 div.sk-label-container {text-align: center;}#sk-container-id-1 div.sk-container {/* jupyter's `normalize.less` sets `[hidden] { display: none; }` but bootstrap.min.css set `[hidden] { display: none !important; }` so we also need the `!important` here to be able to override the default hidden behavior on the sphinx rendered scikit-learn.org. See: https://github.com/scikit-learn/scikit-learn/issues/21755 */display: inline-block !important;position: relative;}#sk-container-id-1 div.sk-text-repr-fallback {display: none;}</style><div id=\"sk-container-id-1\" class=\"sk-top-container\"><div class=\"sk-text-repr-fallback\"><pre>PCA(n_components=3)</pre><b>In a Jupyter environment, please rerun this cell to show the HTML representation or trust the notebook. <br />On GitHub, the HTML representation is unable to render, please try loading this page with nbviewer.org.</b></div><div class=\"sk-container\" hidden><div class=\"sk-item\"><div class=\"sk-estimator sk-toggleable\"><input class=\"sk-toggleable__control sk-hidden--visually\" id=\"sk-estimator-id-1\" type=\"checkbox\" checked><label for=\"sk-estimator-id-1\" class=\"sk-toggleable__label sk-toggleable__label-arrow\">PCA</label><div class=\"sk-toggleable__content\"><pre>PCA(n_components=3)</pre></div></div></div></div></div>"
            ]
          },
          "metadata": {},
          "execution_count": 5
        }
      ]
    },
    {
      "cell_type": "code",
      "source": [
        "X_train\n",
        "#here we can observe 4 featres"
      ],
      "metadata": {
        "colab": {
          "base_uri": "https://localhost:8080/"
        },
        "id": "aA-58Dd7_-np",
        "outputId": "52bf9b45-c934-404f-afcc-cca100852f68"
      },
      "execution_count": 8,
      "outputs": [
        {
          "output_type": "execute_result",
          "data": {
            "text/plain": [
              "array([[ 1.93695550e+00,  5.57136244e-02,  7.71835020e-01],\n",
              "       [ 1.09435957e+00,  1.94053693e-01, -3.75130221e-01],\n",
              "       [ 1.80645991e-01, -3.47024651e-01, -1.57233030e-01],\n",
              "       [ 1.60534781e+00,  2.25048193e-01, -1.17124822e-01],\n",
              "       [ 3.97584910e-01, -5.42537515e-01,  3.45504673e-02],\n",
              "       [-2.95756948e+00, -3.61571510e-01,  1.74172861e-01],\n",
              "       [ 1.51530461e+00,  4.65725826e-01, -2.87781679e-01],\n",
              "       [ 1.45206722e+00, -6.24602594e-01,  3.26008292e-01],\n",
              "       [ 2.39017811e+00, -9.58224865e-02,  3.36099024e-01],\n",
              "       [-2.72504764e+00,  2.44057567e-01,  7.42170220e-02],\n",
              "       [-2.68357079e+00,  3.07130571e-01,  8.74295970e-02],\n",
              "       [ 2.89364865e+00,  3.31014112e-01, -4.34675406e-01],\n",
              "       [-2.66837276e+00, -1.91448913e-01, -2.20879593e-01],\n",
              "       [ 1.34408199e+00, -7.98179128e-01, -3.20179664e-01],\n",
              "       [ 2.36761175e+00, -2.87307257e-01, -3.02174866e-01],\n",
              "       [-2.14879114e+00,  8.53424859e-01, -1.05836958e-01],\n",
              "       [ 1.94712324e+00, -6.71060545e-04,  2.07539720e-01],\n",
              "       [-2.31350791e+00, -5.92987671e-02,  1.18041691e-01],\n",
              "       [-2.59131176e+00,  1.16239136e+00, -1.35629659e-01],\n",
              "       [ 3.13897023e-01, -5.74325975e-01, -6.76657845e-01],\n",
              "       [ 2.96038528e+00,  7.20671807e-01,  4.96831539e-01],\n",
              "       [-2.36319326e+00,  1.63470382e-01,  2.64361734e-01],\n",
              "       [-2.49296009e+00,  4.81785260e-01,  1.68502859e-01],\n",
              "       [ 9.78494076e-01,  4.31387166e-01, -2.70245715e-01],\n",
              "       [-2.67043197e+00, -2.66820071e-01, -1.09125190e-01],\n",
              "       [ 1.80726639e+00,  2.95352462e-02,  1.77679621e-01],\n",
              "       [ 2.66394853e+00,  2.93725430e-01, -4.91758035e-02],\n",
              "       [-2.79763367e+00, -2.46645748e-01,  6.95131300e-02],\n",
              "       [-2.54973495e+00,  1.07137805e+00,  1.70591195e-01],\n",
              "       [ 2.74936963e-02, -7.63434963e-01,  2.91423368e-01],\n",
              "       [ 2.35551310e+00,  1.26946745e-01,  3.79398122e-01],\n",
              "       [ 3.44817294e+00,  5.00452775e-01, -2.75211835e-01],\n",
              "       [-2.70347206e+00, -3.36581065e-01,  1.66611808e-02],\n",
              "       [-2.46027656e+00, -1.60848386e-01, -2.61338360e-01],\n",
              "       [ 2.18025096e+00,  7.73599926e-02,  7.86843759e-01],\n",
              "       [-2.74083049e+00, -2.48911753e-01, -2.20060201e-01],\n",
              "       [-2.49923768e+00,  4.09758097e-01,  2.10757790e-01],\n",
              "       [ 1.96773645e+00,  3.58276081e-01,  1.71786494e-01],\n",
              "       [ 2.31784867e+00,  2.79955149e-01,  3.42441702e-01],\n",
              "       [ 2.47150689e+00,  3.22853747e-01,  2.80036901e-01],\n",
              "       [ 1.94353907e+00,  6.24016960e-02,  5.29815129e-01],\n",
              "       [-2.81943752e+00,  5.48387188e-02, -1.71462593e-01],\n",
              "       [ 1.61932079e+00, -5.97346309e-01,  6.64111833e-01],\n",
              "       [-6.65362488e-01, -1.04111123e+00, -1.08421309e-01],\n",
              "       [-2.57395456e+00,  5.85096720e-01, -2.62684973e-01],\n",
              "       [ 5.04707656e-01, -7.07843907e-01, -9.56802371e-03],\n",
              "       [-2.33688611e+00,  1.31244966e+00,  2.98398505e-01],\n",
              "       [-2.26079482e+00,  3.75019698e-01, -2.35507828e-01],\n",
              "       [ 1.38365626e+00,  2.10089979e-01, -4.77174396e-01],\n",
              "       [-1.32413782e-01, -2.91033939e-01,  1.08598104e-01],\n",
              "       [ 1.34421029e+00, -3.64938653e-01, -3.14656379e-01],\n",
              "       [ 2.01276913e+00, -2.29050457e-01,  1.50208654e-01],\n",
              "       [ 2.85937793e-01, -3.08548037e-01,  2.08934446e-01],\n",
              "       [ 3.84705754e+00,  2.07128424e-01, -4.39885585e-01],\n",
              "       [ 2.16436814e+00, -2.61523017e-01,  1.99558257e-01],\n",
              "       [ 7.63586037e-01,  1.14944402e-01, -2.86298622e-01],\n",
              "       [-2.59943716e-01, -3.95927470e-01, -3.04303419e-01],\n",
              "       [ 1.57042621e+00, -4.18663526e-01, -8.48722930e-02],\n",
              "       [ 1.43232258e+00, -2.47746969e-01, -2.67218342e-02],\n",
              "       [ 9.34523734e-01, -7.49583799e-02,  2.25377887e-02],\n",
              "       [-2.42484903e+00,  1.09351619e-01,  9.26607089e-02],\n",
              "       [ 2.98328589e+00,  3.09761882e-01, -3.57261868e-01],\n",
              "       [ 3.12873561e+00,  6.38502634e-01, -2.60134050e-01],\n",
              "       [ 8.64202936e-01, -4.01543318e-01, -5.86693747e-01],\n",
              "       [ 3.55313651e+00,  4.13861535e-01, -5.00584202e-01],\n",
              "       [ 9.78594043e-01,  2.77300855e-01,  2.27625639e-02],\n",
              "       [-2.84592236e+00, -5.95560989e-01, -2.11118218e-04],\n",
              "       [-4.68296506e-01, -1.29300895e+00, -2.74891222e-01],\n",
              "       [-2.65734254e+00,  9.10493283e-02, -9.48684472e-02],\n",
              "       [ 1.33778333e+00,  6.48940536e-01, -3.54598198e-01],\n",
              "       [ 1.42098637e+00, -4.64906119e-01,  4.70319803e-02],\n",
              "       [ 5.51314768e-01, -1.24105201e+00,  5.52638941e-01],\n",
              "       [-2.51489224e+00,  3.50029252e-01, -7.79961482e-02],\n",
              "       [ 1.13862982e+00,  2.38140307e-01,  2.11111113e-01],\n",
              "       [-3.18337944e+00, -5.27272040e-01,  3.76320928e-02],\n",
              "       [ 1.23316906e+00, -6.58547198e-01,  5.38987477e-01],\n",
              "       [ 1.13624238e+00,  3.77012945e-02, -2.68674328e-01],\n",
              "       [-2.16630497e+00,  4.10152235e-01,  3.03180066e-01],\n",
              "       [-2.84579407e+00, -1.62320513e-01,  5.31216654e-03],\n",
              "       [ 5.53530597e-01, -1.45113594e-01,  1.58922828e-01],\n",
              "       [-2.60254800e+00,  7.91145897e-01,  2.31132435e-01],\n",
              "       [ 2.15359451e+00,  3.22459692e-01,  8.45936798e-02],\n",
              "       [-2.54353625e+00, -2.21655303e-01, -8.79985497e-02],\n",
              "       [ 1.20890005e+00, -2.13008487e-01,  3.16522838e-01],\n",
              "       [-2.77991991e+00, -1.11545745e-01,  2.46512665e-01],\n",
              "       [ 1.02868535e+00, -1.64893697e-01, -3.03141606e-02],\n",
              "       [ 3.28396935e+00,  1.32069105e+00, -2.92400473e-02],\n",
              "       [-2.45786080e+00,  6.26917412e-01, -6.90379147e-02],\n",
              "       [-2.80642699e+00, -9.52352399e-01, -3.73540665e-01],\n",
              "       [-2.60237031e+00,  2.92566330e-01,  2.58441895e-02],\n",
              "       [ 2.43979182e+00,  4.22821461e-01, -3.90714293e-01],\n",
              "       [-2.58066643e+00,  1.45168174e-01, -2.61883670e-02],\n",
              "       [-2.54340796e+00,  2.11585172e-01, -8.24752650e-02],\n",
              "       [ 9.91504609e-01, -5.75803952e-01, -4.72323787e-01],\n",
              "       [-2.36123402e+00,  3.92927851e-01, -1.40400949e-01],\n",
              "       [-3.17428014e+00,  1.13095519e-01,  2.80920927e-01],\n",
              "       [-7.11363709e-01, -1.03550115e+00,  8.63160402e-03],\n",
              "       [ 1.82368339e+00, -5.42149061e-01, -1.41385615e-01],\n",
              "       [ 2.60508615e+00,  2.20620277e-01,  3.52151930e-01],\n",
              "       [ 1.84645577e+00, -2.61917072e-01,  4.11503494e-03]])"
            ]
          },
          "metadata": {},
          "execution_count": 8
        }
      ]
    },
    {
      "cell_type": "code",
      "source": [
        "X_train=pca.fit_transform(X_train)\n",
        "X_train\n",
        "#now 4 Features got reduced to 3\n"
      ],
      "metadata": {
        "colab": {
          "base_uri": "https://localhost:8080/"
        },
        "id": "xdS4VWxj_4Tr",
        "outputId": "3d2e23e9-e13c-4fc4-bbd6-0749e11468fa"
      },
      "execution_count": 9,
      "outputs": [
        {
          "output_type": "execute_result",
          "data": {
            "text/plain": [
              "array([[ 1.93695550e+00,  5.57136244e-02,  7.71835020e-01],\n",
              "       [ 1.09435957e+00,  1.94053693e-01, -3.75130221e-01],\n",
              "       [ 1.80645991e-01, -3.47024651e-01, -1.57233030e-01],\n",
              "       [ 1.60534781e+00,  2.25048193e-01, -1.17124822e-01],\n",
              "       [ 3.97584910e-01, -5.42537515e-01,  3.45504673e-02],\n",
              "       [-2.95756948e+00, -3.61571510e-01,  1.74172861e-01],\n",
              "       [ 1.51530461e+00,  4.65725826e-01, -2.87781679e-01],\n",
              "       [ 1.45206722e+00, -6.24602594e-01,  3.26008292e-01],\n",
              "       [ 2.39017811e+00, -9.58224865e-02,  3.36099024e-01],\n",
              "       [-2.72504764e+00,  2.44057567e-01,  7.42170220e-02],\n",
              "       [-2.68357079e+00,  3.07130571e-01,  8.74295970e-02],\n",
              "       [ 2.89364865e+00,  3.31014112e-01, -4.34675406e-01],\n",
              "       [-2.66837276e+00, -1.91448913e-01, -2.20879593e-01],\n",
              "       [ 1.34408199e+00, -7.98179128e-01, -3.20179664e-01],\n",
              "       [ 2.36761175e+00, -2.87307257e-01, -3.02174866e-01],\n",
              "       [-2.14879114e+00,  8.53424859e-01, -1.05836958e-01],\n",
              "       [ 1.94712324e+00, -6.71060545e-04,  2.07539720e-01],\n",
              "       [-2.31350791e+00, -5.92987671e-02,  1.18041691e-01],\n",
              "       [-2.59131176e+00,  1.16239136e+00, -1.35629659e-01],\n",
              "       [ 3.13897023e-01, -5.74325975e-01, -6.76657845e-01],\n",
              "       [ 2.96038528e+00,  7.20671807e-01,  4.96831539e-01],\n",
              "       [-2.36319326e+00,  1.63470382e-01,  2.64361734e-01],\n",
              "       [-2.49296009e+00,  4.81785260e-01,  1.68502859e-01],\n",
              "       [ 9.78494076e-01,  4.31387166e-01, -2.70245715e-01],\n",
              "       [-2.67043197e+00, -2.66820071e-01, -1.09125190e-01],\n",
              "       [ 1.80726639e+00,  2.95352462e-02,  1.77679621e-01],\n",
              "       [ 2.66394853e+00,  2.93725430e-01, -4.91758035e-02],\n",
              "       [-2.79763367e+00, -2.46645748e-01,  6.95131300e-02],\n",
              "       [-2.54973495e+00,  1.07137805e+00,  1.70591195e-01],\n",
              "       [ 2.74936963e-02, -7.63434963e-01,  2.91423368e-01],\n",
              "       [ 2.35551310e+00,  1.26946745e-01,  3.79398122e-01],\n",
              "       [ 3.44817294e+00,  5.00452775e-01, -2.75211835e-01],\n",
              "       [-2.70347206e+00, -3.36581065e-01,  1.66611808e-02],\n",
              "       [-2.46027656e+00, -1.60848386e-01, -2.61338360e-01],\n",
              "       [ 2.18025096e+00,  7.73599926e-02,  7.86843759e-01],\n",
              "       [-2.74083049e+00, -2.48911753e-01, -2.20060201e-01],\n",
              "       [-2.49923768e+00,  4.09758097e-01,  2.10757790e-01],\n",
              "       [ 1.96773645e+00,  3.58276081e-01,  1.71786494e-01],\n",
              "       [ 2.31784867e+00,  2.79955149e-01,  3.42441702e-01],\n",
              "       [ 2.47150689e+00,  3.22853747e-01,  2.80036901e-01],\n",
              "       [ 1.94353907e+00,  6.24016960e-02,  5.29815129e-01],\n",
              "       [-2.81943752e+00,  5.48387188e-02, -1.71462593e-01],\n",
              "       [ 1.61932079e+00, -5.97346309e-01,  6.64111833e-01],\n",
              "       [-6.65362488e-01, -1.04111123e+00, -1.08421309e-01],\n",
              "       [-2.57395456e+00,  5.85096720e-01, -2.62684973e-01],\n",
              "       [ 5.04707656e-01, -7.07843907e-01, -9.56802371e-03],\n",
              "       [-2.33688611e+00,  1.31244966e+00,  2.98398505e-01],\n",
              "       [-2.26079482e+00,  3.75019698e-01, -2.35507828e-01],\n",
              "       [ 1.38365626e+00,  2.10089979e-01, -4.77174396e-01],\n",
              "       [-1.32413782e-01, -2.91033939e-01,  1.08598104e-01],\n",
              "       [ 1.34421029e+00, -3.64938653e-01, -3.14656379e-01],\n",
              "       [ 2.01276913e+00, -2.29050457e-01,  1.50208654e-01],\n",
              "       [ 2.85937793e-01, -3.08548037e-01,  2.08934446e-01],\n",
              "       [ 3.84705754e+00,  2.07128424e-01, -4.39885585e-01],\n",
              "       [ 2.16436814e+00, -2.61523017e-01,  1.99558257e-01],\n",
              "       [ 7.63586037e-01,  1.14944402e-01, -2.86298622e-01],\n",
              "       [-2.59943716e-01, -3.95927470e-01, -3.04303419e-01],\n",
              "       [ 1.57042621e+00, -4.18663526e-01, -8.48722930e-02],\n",
              "       [ 1.43232258e+00, -2.47746969e-01, -2.67218342e-02],\n",
              "       [ 9.34523734e-01, -7.49583799e-02,  2.25377887e-02],\n",
              "       [-2.42484903e+00,  1.09351619e-01,  9.26607089e-02],\n",
              "       [ 2.98328589e+00,  3.09761882e-01, -3.57261868e-01],\n",
              "       [ 3.12873561e+00,  6.38502634e-01, -2.60134050e-01],\n",
              "       [ 8.64202936e-01, -4.01543318e-01, -5.86693747e-01],\n",
              "       [ 3.55313651e+00,  4.13861535e-01, -5.00584202e-01],\n",
              "       [ 9.78594043e-01,  2.77300855e-01,  2.27625639e-02],\n",
              "       [-2.84592236e+00, -5.95560989e-01, -2.11118218e-04],\n",
              "       [-4.68296506e-01, -1.29300895e+00, -2.74891222e-01],\n",
              "       [-2.65734254e+00,  9.10493283e-02, -9.48684472e-02],\n",
              "       [ 1.33778333e+00,  6.48940536e-01, -3.54598198e-01],\n",
              "       [ 1.42098637e+00, -4.64906119e-01,  4.70319803e-02],\n",
              "       [ 5.51314768e-01, -1.24105201e+00,  5.52638941e-01],\n",
              "       [-2.51489224e+00,  3.50029252e-01, -7.79961482e-02],\n",
              "       [ 1.13862982e+00,  2.38140307e-01,  2.11111113e-01],\n",
              "       [-3.18337944e+00, -5.27272040e-01,  3.76320928e-02],\n",
              "       [ 1.23316906e+00, -6.58547198e-01,  5.38987477e-01],\n",
              "       [ 1.13624238e+00,  3.77012945e-02, -2.68674328e-01],\n",
              "       [-2.16630497e+00,  4.10152235e-01,  3.03180066e-01],\n",
              "       [-2.84579407e+00, -1.62320513e-01,  5.31216654e-03],\n",
              "       [ 5.53530597e-01, -1.45113594e-01,  1.58922828e-01],\n",
              "       [-2.60254800e+00,  7.91145897e-01,  2.31132435e-01],\n",
              "       [ 2.15359451e+00,  3.22459692e-01,  8.45936798e-02],\n",
              "       [-2.54353625e+00, -2.21655303e-01, -8.79985497e-02],\n",
              "       [ 1.20890005e+00, -2.13008487e-01,  3.16522838e-01],\n",
              "       [-2.77991991e+00, -1.11545745e-01,  2.46512665e-01],\n",
              "       [ 1.02868535e+00, -1.64893697e-01, -3.03141606e-02],\n",
              "       [ 3.28396935e+00,  1.32069105e+00, -2.92400473e-02],\n",
              "       [-2.45786080e+00,  6.26917412e-01, -6.90379147e-02],\n",
              "       [-2.80642699e+00, -9.52352399e-01, -3.73540665e-01],\n",
              "       [-2.60237031e+00,  2.92566330e-01,  2.58441895e-02],\n",
              "       [ 2.43979182e+00,  4.22821461e-01, -3.90714293e-01],\n",
              "       [-2.58066643e+00,  1.45168174e-01, -2.61883670e-02],\n",
              "       [-2.54340796e+00,  2.11585172e-01, -8.24752650e-02],\n",
              "       [ 9.91504609e-01, -5.75803952e-01, -4.72323787e-01],\n",
              "       [-2.36123402e+00,  3.92927851e-01, -1.40400949e-01],\n",
              "       [-3.17428014e+00,  1.13095519e-01,  2.80920927e-01],\n",
              "       [-7.11363709e-01, -1.03550115e+00,  8.63160402e-03],\n",
              "       [ 1.82368339e+00, -5.42149061e-01, -1.41385615e-01],\n",
              "       [ 2.60508615e+00,  2.20620277e-01,  3.52151930e-01],\n",
              "       [ 1.84645577e+00, -2.61917072e-01,  4.11503494e-03]])"
            ]
          },
          "metadata": {},
          "execution_count": 9
        }
      ]
    },
    {
      "cell_type": "code",
      "source": [
        "X_test=pca.fit(X_test)"
      ],
      "metadata": {
        "id": "_muDytRsAAY7"
      },
      "execution_count": 11,
      "outputs": []
    },
    {
      "cell_type": "code",
      "source": [
        "#to know the eigen vector of original features which is used by pca for transformation into 3 featutres\n",
        "pca.components_\n"
      ],
      "metadata": {
        "colab": {
          "base_uri": "https://localhost:8080/"
        },
        "id": "ILm7HxmvAP2V",
        "outputId": "2b813b87-dc7c-4ab1-8e0f-0e1cdf836656"
      },
      "execution_count": 12,
      "outputs": [
        {
          "output_type": "execute_result",
          "data": {
            "text/plain": [
              "array([[ 0.33183707, -0.07523796,  0.86195918,  0.37583212],\n",
              "       [ 0.59839181,  0.78647676, -0.15087329, -0.02487564],\n",
              "       [-0.64095526,  0.51405363,  0.04381921,  0.56833537]])"
            ]
          },
          "metadata": {},
          "execution_count": 12
        }
      ]
    },
    {
      "cell_type": "code",
      "source": [
        "#percentage spread retained/caugth by 3 new features\n",
        "pca.explained_variance_ratio_"
      ],
      "metadata": {
        "colab": {
          "base_uri": "https://localhost:8080/"
        },
        "id": "tGDxCwooAr-8",
        "outputId": "30153ff5-0be1-4ba1-ab8e-0be51bddf766"
      },
      "execution_count": 13,
      "outputs": [
        {
          "output_type": "execute_result",
          "data": {
            "text/plain": [
              "array([0.92223767, 0.05600767, 0.01510818])"
            ]
          },
          "metadata": {},
          "execution_count": 13
        }
      ]
    },
    {
      "cell_type": "code",
      "source": [],
      "metadata": {
        "id": "TKOc4gpqA9ff"
      },
      "execution_count": null,
      "outputs": []
    }
  ]
}